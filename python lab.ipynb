{
  "nbformat": 4,
  "nbformat_minor": 0,
  "metadata": {
    "colab": {
      "name": "Copy of Copy of Untitled0.ipynb",
      "provenance": [],
      "collapsed_sections": [],
      "include_colab_link": true
    },
    "kernelspec": {
      "name": "python3",
      "display_name": "Python 3"
    },
    "language_info": {
      "name": "python"
    }
  },
  "cells": [
    {
      "cell_type": "markdown",
      "metadata": {
        "id": "view-in-github",
        "colab_type": "text"
      },
      "source": [
        "<a href=\"https://colab.research.google.com/github/jabili-devi/python-lab/blob/main/python%20lab.ipynb\" target=\"_parent\"><img src=\"https://colab.research.google.com/assets/colab-badge.svg\" alt=\"Open In Colab\"/></a>"
      ]
    },
    {
      "cell_type": "markdown",
      "metadata": {
        "id": "CscjWxuBFp7P"
      },
      "source": [
        "Name:M.Jabili devi\n",
        "Regno:20A25B0502\n",
        "section-CSE-S"
      ]
    },
    {
      "cell_type": "markdown",
      "metadata": {
        "id": "Z0Ih86DxE8ne"
      },
      "source": [
        "exercise:1-Running instructions in interactive interpreter and a python script"
      ]
    },
    {
      "cell_type": "code",
      "metadata": {
        "colab": {
          "base_uri": "https://localhost:8080/"
        },
        "id": "T198rE-MFb4R",
        "outputId": "9efdf326-7e96-46fa-8993-df9e3a8f9d44"
      },
      "source": [
        "print(\"Hello, jabili\")"
      ],
      "execution_count": null,
      "outputs": [
        {
          "output_type": "stream",
          "text": [
            "Hello, jabili\n"
          ],
          "name": "stdout"
        }
      ]
    },
    {
      "cell_type": "markdown",
      "metadata": {
        "id": "YxSAEkexs351"
      },
      "source": [
        "exercise:2 -a) write a program to compute distance between 2 points by taking inputs\n",
        "\n"
      ]
    },
    {
      "cell_type": "code",
      "metadata": {
        "colab": {
          "base_uri": "https://localhost:8080/"
        },
        "id": "8DCqsKcYs5dh",
        "outputId": "c4f16c67-7ee1-4a8b-e49e-07cc4da231b4"
      },
      "source": [
        "import math\n",
        "x1=int(input(\"enter x1 value:\"))\n",
        "x2=int(input(\"enter x2 value:\"))\n",
        "y1=int(input(\"enter y1 value:\"))\n",
        "y2=int(input(\"enter y2 value:\"))\n",
        "d=math.sqrt(((x2-x1)**2)+((y2-y1)**2))\n",
        "print(\"distanse of two points:\",d)"
      ],
      "execution_count": null,
      "outputs": [
        {
          "output_type": "stream",
          "text": [
            "enter x1 value:10\n",
            "enter x2 value:5\n",
            "enter y1 value:8\n",
            "enter y2 value:6\n",
            "distanse of two points: 5.385164807134504\n"
          ],
          "name": "stdout"
        }
      ]
    },
    {
      "cell_type": "code",
      "metadata": {
        "id": "v89MO7i8tdCB"
      },
      "source": [
        "exercise 3:a) write a program to find the given number is even or odd"
      ],
      "execution_count": null,
      "outputs": []
    },
    {
      "cell_type": "code",
      "metadata": {
        "colab": {
          "base_uri": "https://localhost:8080/"
        },
        "id": "_dkENehWufjc",
        "outputId": "efe07a51-0083-428f-e680-8d3aad433956"
      },
      "source": [
        "n=int(input(\"enter a number:\"))\n",
        "if(n%2==0):\n",
        "  print(\"given number is even\")\n",
        "else:\n",
        "  print(\"given number is odd\")"
      ],
      "execution_count": null,
      "outputs": [
        {
          "output_type": "stream",
          "text": [
            "enter a number:4\n",
            "given number is even\n"
          ],
          "name": "stdout"
        }
      ]
    },
    {
      "cell_type": "markdown",
      "metadata": {
        "id": "Hk4qGDZLF6WV"
      },
      "source": [
        "b)Using a for loop, write a program that prints out the decimal equivalents of 1/2, 1/3, 1/4.1/10."
      ]
    },
    {
      "cell_type": "code",
      "metadata": {
        "colab": {
          "base_uri": "https://localhost:8080/"
        },
        "id": "lqOBTx5bF6xa",
        "outputId": "c68be7b8-ac8f-45bb-ed37-2d3d7f23e6cd"
      },
      "source": [
        "n=int(input(\"enter a number:\"))\n",
        "for i in range(1,n):\n",
        "  d=1/i\n",
        "  print(\"1/\",i,\"=\",d)\n"
      ],
      "execution_count": null,
      "outputs": [
        {
          "output_type": "stream",
          "text": [
            "enter a number:5\n",
            "1/ 1 = 1.0\n",
            "1/ 2 = 0.5\n",
            "1/ 3 = 0.3333333333333333\n",
            "1/ 4 = 0.25\n"
          ],
          "name": "stdout"
        }
      ]
    },
    {
      "cell_type": "markdown",
      "metadata": {
        "id": "W-jqTv_WG4o5"
      },
      "source": [
        "c) Write a program using a for loop that loops over a sequence. What is sequence?"
      ]
    },
    {
      "cell_type": "code",
      "metadata": {
        "colab": {
          "base_uri": "https://localhost:8080/"
        },
        "id": "esFIrGKBG-FO",
        "outputId": "e0fe5e81-e5ca-46d8-feb2-f2b834e2345d"
      },
      "source": [
        "arr=[4,\"abc\",-45,'C',10.5,True,5,106,\"xyz\"]\n",
        "print(\"Given Array: \",arr)\n",
        "\n",
        "for x in arr:\n",
        "  print(x)"
      ],
      "execution_count": null,
      "outputs": [
        {
          "output_type": "stream",
          "text": [
            "Given Array:  [4, 'abc', -45, 'C', 10.5, True, 5, 106, 'xyz']\n",
            "4\n",
            "abc\n",
            "-45\n",
            "C\n",
            "10.5\n",
            "True\n",
            "5\n",
            "106\n",
            "xyz\n"
          ],
          "name": "stdout"
        }
      ]
    },
    {
      "cell_type": "markdown",
      "metadata": {
        "id": "Y5Jtb5z6HqL_"
      },
      "source": [
        "d) Write a program using a while loop that asks the user for a number, and prints a countdown from that number to zero."
      ]
    },
    {
      "cell_type": "code",
      "metadata": {
        "colab": {
          "base_uri": "https://localhost:8080/"
        },
        "id": "yxE2c6tFHuFl",
        "outputId": "d501a8cb-9da2-4d8d-b28e-6989167b7470"
      },
      "source": [
        "n=int(input(\"Enter value of n:\"))\n",
        "\n",
        "while n>=0:\n",
        "  print(n)\n",
        "  n-=1"
      ],
      "execution_count": null,
      "outputs": [
        {
          "output_type": "stream",
          "text": [
            "Enter value of n:7\n",
            "7\n",
            "6\n",
            "5\n",
            "4\n",
            "3\n",
            "2\n",
            "1\n",
            "0\n"
          ],
          "name": "stdout"
        }
      ]
    },
    {
      "cell_type": "markdown",
      "metadata": {
        "id": "PK_84FmsIAR5"
      },
      "source": [
        "exercise 4: a)find the sum of all primes below two million"
      ]
    },
    {
      "cell_type": "code",
      "metadata": {
        "colab": {
          "base_uri": "https://localhost:8080/"
        },
        "id": "BmP-EoykILyK",
        "outputId": "5938e131-207c-4c91-dcdf-ab32e256a7e4"
      },
      "source": [
        "#sum of all the primes of given number below \n",
        "n=int(input(\"Enter an Ending Number: \"))\n",
        "st=\"\"\n",
        "sum=0\n",
        "\n",
        "for i in range(2,n):\n",
        "  state=True\n",
        "  for j in range(2,i):\n",
        "    if(i%j)==0:\n",
        "      state=False\n",
        "      break;\n",
        "      \n",
        "  if state==True:\n",
        "    st+=\" \"+str(i)\n",
        "    sum+=i\n",
        "\n",
        "print(\"Prime Numbers: \")\n",
        "\n",
        "print(st)\n",
        "\n",
        "print(\"Sum of the prime Numbers: \",sum)"
      ],
      "execution_count": null,
      "outputs": [
        {
          "output_type": "stream",
          "text": [
            "Enter an Ending Number: 100\n",
            "Prime Numbers: \n",
            " 2 3 5 7 11 13 17 19 23 29 31 37 41 43 47 53 59 61 67 71 73 79 83 89 97\n",
            "Sum of the prime Numbers:  1060\n"
          ],
          "name": "stdout"
        }
      ]
    },
    {
      "cell_type": "markdown",
      "metadata": {
        "id": "FPG2Wt8dJe-v"
      },
      "source": [
        "b) Each new term in the Fibonacci sequence is generated by adding the previous two terms. By starting with 1 and 2, the first 10 terms will be: 1, 2, 3, 5, 8, 13, 21, 34, 55,89"
      ]
    },
    {
      "cell_type": "code",
      "metadata": {
        "colab": {
          "base_uri": "https://localhost:8080/"
        },
        "id": "_VYGvh3uJlh_",
        "outputId": "dcf55e19-748e-4619-8351-b56b34831a38"
      },
      "source": [
        "#Fibonacci Series\n",
        "\n",
        "n=int (input(\"Enter value of n: \"))\n",
        "\n",
        "a=0\n",
        "b=1\n",
        "c=a+b\n",
        "\n",
        "while c<n:\n",
        "   print(c,end=' ')\n",
        "   a=b\n",
        "   b=c\n",
        "   c=a+b"
      ],
      "execution_count": null,
      "outputs": [
        {
          "output_type": "stream",
          "text": [
            "Enter value of n: 1000\n",
            "1 2 3 5 8 13 21 34 55 89 144 233 377 610 987 "
          ],
          "name": "stdout"
        }
      ]
    },
    {
      "cell_type": "markdown",
      "metadata": {
        "id": "ainQweoPKvg_"
      },
      "source": [
        "c) By considering the terms in the Fibonacci sequence whose values do not exceed\n",
        "\n",
        "million, find the sum of the even-valued terms."
      ]
    },
    {
      "cell_type": "code",
      "metadata": {
        "colab": {
          "base_uri": "https://localhost:8080/"
        },
        "id": "05AJF71iKyBz",
        "outputId": "7aac7b58-8cd8-4b9c-9bfa-b4f61d975590"
      },
      "source": [
        "n=int (input(\"Enter value of n: \"))\n",
        "a=0\n",
        "b=1\n",
        "\n",
        "c=a+b\n",
        "\n",
        "sum=0\n",
        "\n",
        "print(\"Even numbers in Fibonacci series: \")\n",
        "\n",
        "while c<=n: \n",
        "  if c%2==0:\n",
        "    print(c,end=' ') \n",
        "    sum+=c\n",
        "  a=b\n",
        "  b=c\n",
        "  c=a+b\n",
        "\n",
        "print(\"sum of Fibonacci Series is: \",sum)"
      ],
      "execution_count": null,
      "outputs": [
        {
          "output_type": "stream",
          "text": [
            "Enter value of n: 4000000\n",
            "Even numbers in Fibonacci series: \n",
            "2 8 34 144 610 2584 10946 46368 196418 832040 3524578 sum of Fibonacci Series is:  4613732\n"
          ],
          "name": "stdout"
        }
      ]
    },
    {
      "cell_type": "markdown",
      "metadata": {
        "id": "sYzM0NFbL-KM"
      },
      "source": [
        "exercise 5:\n",
        "a) Write a program to count the numbers of characters in the string and store them in a dictionary data structure"
      ]
    },
    {
      "cell_type": "code",
      "metadata": {
        "colab": {
          "base_uri": "https://localhost:8080/"
        },
        "id": "5Sp4Wb3HMH6C",
        "outputId": "7bf75f87-2560-4498-8336-d07be740ee77"
      },
      "source": [
        "name=input(\"Enter a Name: \")\n",
        "\n",
        "dic= {}\n",
        "\n",
        "for ch in name:\n",
        "   keys=dic.keys()\n",
        "   if (ch in keys):\n",
        "     dic[ch]=dic[ch]+1\n",
        "   else:\n",
        "     dic[ch]=1\n",
        "print(\"Dictionary is \",dic)"
      ],
      "execution_count": null,
      "outputs": [
        {
          "output_type": "stream",
          "text": [
            "Enter a Name: jabili\n",
            "Dictionary is  {'j': 1, 'a': 1, 'b': 1, 'i': 2, 'l': 1}\n"
          ],
          "name": "stdout"
        }
      ]
    },
    {
      "cell_type": "markdown",
      "metadata": {
        "id": "LkSfZJiXNRyq"
      },
      "source": [
        "b) Write a program to use split and join methods in the string and trace a birthday with a dictionary data structure."
      ]
    },
    {
      "cell_type": "code",
      "metadata": {
        "colab": {
          "base_uri": "https://localhost:8080/"
        },
        "id": "FuyB3YrZNVpl",
        "outputId": "3463893e-d6dd-400d-a6b5-eb835f26d233"
      },
      "source": [
        "dob={\"jabili\":\"05-Oct-2000\",\"devi\":\"02-08-2002\"}\n",
        "\n",
        "name=input(\"Which person DOB you want: \")\n",
        "\n",
        "I=name.split()\n",
        "\n",
        "birth=\"\"\n",
        "\n",
        "for i in dob:\n",
        "  if i in dob.keys():\n",
        "    pers=i\n",
        "\n",
        "print(\" \".join([pers,\"Birthday is\",dob[pers]]))"
      ],
      "execution_count": null,
      "outputs": [
        {
          "output_type": "stream",
          "text": [
            "Which person DOB you want: devi\n",
            "devi Birthday is 02-08-2002\n"
          ],
          "name": "stdout"
        }
      ]
    },
    {
      "cell_type": "markdown",
      "metadata": {
        "id": "s40kZwyuOgy0"
      },
      "source": [
        "Exercise 6:\n",
        "a) Write a program combine lists that combines these lists into a dictionary."
      ]
    },
    {
      "cell_type": "code",
      "metadata": {
        "colab": {
          "base_uri": "https://localhost:8080/"
        },
        "id": "9fGWjS8TO2b6",
        "outputId": "f0a99a34-b4d5-4744-f15e-6fd72e7a1ca6"
      },
      "source": [
        "subj=[\"DAA\",\"OS\",\"DBMS\",\"P&S\",\"PPL\",\"SE\"]\n",
        "\n",
        "marks=[185,96,78,68,98,56]\n",
        "\n",
        "print(\"Given Lists are: \") \n",
        "print(\"Subject Names: \",subj)\n",
        "print(\" Mark values: \",marks)\n",
        "\n",
        "dic=dict(zip(subj,marks))\n",
        "print(\"\\n Dictionary: \",dic)"
      ],
      "execution_count": null,
      "outputs": [
        {
          "output_type": "stream",
          "text": [
            "Given Lists are: \n",
            "Subject Names:  ['DAA', 'OS', 'DBMS', 'P&S', 'PPL', 'SE']\n",
            " Mark values:  [185, 96, 78, 68, 98, 56]\n",
            "\n",
            " Dictionary:  {'DAA': 185, 'OS': 96, 'DBMS': 78, 'P&S': 68, 'PPL': 98, 'SE': 56}\n"
          ],
          "name": "stdout"
        }
      ]
    },
    {
      "cell_type": "markdown",
      "metadata": {
        "id": "kmHSxpF7Pa6G"
      },
      "source": [
        "b) Write a program to count frequency of characters in a given file. Can you\n",
        "use character frequency to tell wheather the given file is a Python program file, C program file or a text file?"
      ]
    },
    {
      "cell_type": "code",
      "metadata": {
        "id": "MMJH_ObdPcZp"
      },
      "source": [
        "filetypes=['.py','.c','.txt']\n",
        "\n",
        "fn=input(\"Enter the file name: \") \n",
        "f=open(fn,\"r\") \n",
        "count=dict()\n",
        "\n",
        "print(\"Given file is \",end=\"\") \n",
        "for ft in filetypes: \n",
        "  if(ft in fn):\n",
        "    if(ft=='.py'):\n",
        "      print(\"Python File\")\n",
        "    elif(ft=='.c'):\n",
        "      print(\"C File\")\n",
        "    elif(ft=='.txt'):\n",
        "      print(\"Text File\")\n",
        "\n",
        "for line in f:\n",
        "  for ch in line:\n",
        "    if ch in count:\n",
        "      count[ch]=count[ch]+1\n",
        "    else:\n",
        "      count[ch]=1\n",
        "\n",
        "print(count)\n",
        "\n",
        "f.close()"
      ],
      "execution_count": null,
      "outputs": []
    },
    {
      "cell_type": "markdown",
      "metadata": {
        "id": "3Asw00XVRj1-"
      },
      "source": [
        "exercise-7:\n",
        "a) Write a program to print each line of a file in reverse order."
      ]
    },
    {
      "cell_type": "code",
      "metadata": {
        "id": "upjix_CkRvAZ"
      },
      "source": [
        "obj=open(\"me.txt\",\"r\")\n",
        "\n",
        "if obj:\n",
        "  st=obj.read()\n",
        "  print(\"File content is: \\n\",st)\n",
        "\n",
        "obj.close()\n",
        "\n",
        "print()\n",
        "\n",
        "lines=st.split('\\n')\n",
        "\n",
        "for In in lines:\n",
        "  i=len(In)-1\n",
        "  while(i>=0):\n",
        "    print(In[i],end=\" \") \n",
        "    i=i-1\n",
        "\n",
        "print()"
      ],
      "execution_count": null,
      "outputs": []
    },
    {
      "cell_type": "markdown",
      "metadata": {
        "id": "-8VkBMotSWxE"
      },
      "source": [
        "b)write a program to compute the number pf characters, words and lines in a file."
      ]
    },
    {
      "cell_type": "code",
      "metadata": {
        "id": "SHH5eJO6SriX"
      },
      "source": [
        "nc=nw=nl=0 file = open(\"abc.txt\", \"r\")\n",
        "\n",
        "nl=nw=nc=0\n",
        "\n",
        "print(\"File Content:\\n\") \n",
        "for line in file:\n",
        "  In = line.strip(\"\\n\")\n",
        "  words=ln.split()\n",
        "  nw += len(words)\n",
        "\n",
        "print(In)\n",
        "\n",
        "nl += 1\n",
        "\n",
        "nc += len(line)\n",
        "file.close()\n",
        "print(\"\\n No.of lines\",nl,\"words:\",nw,\"characters\",nc)\n"
      ],
      "execution_count": null,
      "outputs": []
    },
    {
      "cell_type": "markdown",
      "metadata": {
        "id": "JPBskih2TTEP"
      },
      "source": [
        "Exeecise-8\n",
        "a) Write a function ball collide that takes two balls as parameters and computes if they are colliding. Your function should return a Boolean representing whether or not the balls are colliding."
      ]
    },
    {
      "cell_type": "code",
      "metadata": {
        "colab": {
          "base_uri": "https://localhost:8080/"
        },
        "id": "ZZAukjtmTrTP",
        "outputId": "69a0edb2-e3d0-4cd7-c700-7f8b3a5f68ed"
      },
      "source": [
        "import math\n",
        "\n",
        "def collide(ball_tup1,ball_tup2):\n",
        "  x1,y1,r1=ball_tup1\n",
        "  x2,y2,r2=ball_tup2\n",
        "  print(\"Ball-01: \",ball_tup1)\n",
        "  print(\"Ball-02: \",ball_tup2)\n",
        "  d=math.sqrt((x2-x1)**2 + (y2-y1)**2)\n",
        "  print(\"Centroid Distance of two balls: \",d)\n",
        "  print(\"Sum of Radius Ball-01 & Balu-02 is: {}+{}={}\".format(r1,r2,r1+r2))\n",
        "  if d<=r1+r2: \n",
        "    return True\n",
        "  else:\n",
        "    return False\n",
        "\n",
        "b1=(-2,-4,3)\n",
        "\n",
        "b2=(4,6,3)\n",
        "\n",
        "if collide(b1,b2):\n",
        "  print(\"Balls are Colliode....!\")\n",
        "else:\n",
        "  print(\"Balls are NOT Collide.....!\")"
      ],
      "execution_count": null,
      "outputs": [
        {
          "output_type": "stream",
          "text": [
            "Ball-01:  (-2, -4, 3)\n",
            "Ball-02:  (4, 6, 3)\n",
            "Centroid Distance of two balls:  11.661903789690601\n",
            "Sum of Radius Ball-01 & Balu-02 is: 3+3=6\n",
            "Balls are NOT Collide.....!\n"
          ],
          "name": "stdout"
        }
      ]
    },
    {
      "cell_type": "markdown",
      "metadata": {
        "id": "k3QF-ZwvVMT7"
      },
      "source": [
        "b) Find mean, median, mode for the given set of numbers in a list."
      ]
    },
    {
      "cell_type": "code",
      "metadata": {
        "colab": {
          "base_uri": "https://localhost:8080/"
        },
        "id": "bGhYYdQWVRvQ",
        "outputId": "eddca4cf-d1b7-40f1-c53f-5b5ed24cb546"
      },
      "source": [
        "def list_mean(num_list):\n",
        "  return sum(num_list)/len(num_list)\n",
        "\n",
        "def sum(num_list):\n",
        "  sum=0\n",
        "  for i in num_list:\n",
        "    sum=sum+i\n",
        "  return sum\n",
        "def list_median(num_list):\n",
        "  num_list.sort()\n",
        "  n=len(num_list)\n",
        "  mid=n//2\n",
        "  if(n%2==1):\n",
        "    return num_list[mid]\n",
        "  else:\n",
        "    return (num_list[mid-1]+num_list[mid])/2\n",
        "\n",
        "def list_mode(num_list):\n",
        "  num_list.sort()\n",
        "  temp=[]\n",
        "  i=0\n",
        "  while i<len(num_list):\n",
        "    temp.append(num_list.count(num_list[i]))\n",
        "    i+=1\n",
        "    dic=dict(zip(num_list,temp))\n",
        "    mode={k for(k,v) in dic.items() if v==max(temp)}\n",
        "    return mode\n",
        "\n",
        "lst=[1,1,2,2,2,3,4,5,3]\n",
        "\n",
        "print(\"Given list is; \",lst)\n",
        "\n",
        "print(\"Mean of the given list: \",list_mean(lst))\n",
        "print(\"Median of the given list: \",list_median(lst))\n",
        "print(\"Mode of the given list: \",list_mode(lst))"
      ],
      "execution_count": null,
      "outputs": [
        {
          "output_type": "stream",
          "text": [
            "Given list is;  [1, 1, 2, 2, 2, 3, 4, 5, 3]\n",
            "Mean of the given list:  2.5555555555555554\n",
            "Median of the given list:  2\n",
            "Mode of the given list:  {1}\n"
          ],
          "name": "stdout"
        }
      ]
    },
    {
      "cell_type": "markdown",
      "metadata": {
        "id": "gYQVUhIfXyrG"
      },
      "source": [
        "exercise-9\n",
        "a) Write a function nearly equal to test whether two strings are nearly equal. Two strings a and b are nearly equal when a can be generated by a single mutation on b."
      ]
    },
    {
      "cell_type": "code",
      "metadata": {
        "colab": {
          "base_uri": "https://localhost:8080/"
        },
        "id": "VvbBmpqlX5kP",
        "outputId": "8e6605fe-6e4e-4a68-f2f4-721dec3f47f1"
      },
      "source": [
        "def nearly_eq(str1,str2):\n",
        "  count=0\n",
        "  i=j=0\n",
        "  while(i<len(str1) and j<len(str2)):\n",
        "    if (str1[i]!=str2[j]):\n",
        "      count+=1\n",
        "      if(len(str1)>len(str2)):\n",
        "        i+=1\n",
        "      elif(len(str1)==len(str2)):\n",
        "        pass\n",
        "      else:\n",
        "        i-=1\n",
        "      if(count>1):\n",
        "        return False\n",
        "      i+=1\n",
        "      j+=1\n",
        "  if(count<2):\n",
        "    return True\n",
        "\n",
        "s1=input(\"Enter String1: \")\n",
        "\n",
        "s2=input(\"Enter String2: \")\n",
        "bln=nearly_eq(s1,s2)\n",
        "if(bln):\n",
        "  print(\"Strings are nearly equal.\")\n",
        "else: \n",
        "  print(\"String are NOT equal.\")"
      ],
      "execution_count": null,
      "outputs": [
        {
          "output_type": "stream",
          "text": [
            "Enter String1: jabili\n",
            "Enter String2: devi\n",
            "String are NOT equal.\n"
          ],
          "name": "stdout"
        }
      ]
    },
    {
      "cell_type": "markdown",
      "metadata": {
        "id": "DWK5e0RaIJ1v"
      },
      "source": [
        "b) Write a function dup to find all duplicates in the list"
      ]
    },
    {
      "cell_type": "code",
      "metadata": {
        "colab": {
          "base_uri": "https://localhost:8080/"
        },
        "id": "oEsfiMB2IWB6",
        "outputId": "e767e334-d3ee-442d-de71-bf75b3c8f530"
      },
      "source": [
        "def dups(numlist):\n",
        "  temp=[]\n",
        "  for i in numlist:\n",
        "    cnt=numlist.count(i)\n",
        "    if(cnt>1 and (i not in temp)):\n",
        "      temp.append(i)\n",
        "  print(\"Duplicates in the list: \",temp)\n",
        "\n",
        "lst=[1,2,6,9,1,3,5,2,1]\n",
        "\n",
        "print(\"Given elements in the list: \",lst) \n",
        "dups(lst)"
      ],
      "execution_count": null,
      "outputs": [
        {
          "output_type": "stream",
          "text": [
            "Given elements in the list:  [1, 2, 6, 9, 1, 3, 5, 2, 1]\n",
            "Duplicates in the list:  [1, 2]\n"
          ],
          "name": "stdout"
        }
      ]
    },
    {
      "cell_type": "markdown",
      "metadata": {
        "id": "ZmKrXF2dI8Zx"
      },
      "source": [
        "c)write a function unique to find all the unique elements of a list."
      ]
    },
    {
      "cell_type": "code",
      "metadata": {
        "colab": {
          "base_uri": "https://localhost:8080/"
        },
        "id": "FwAWwm37JPd_",
        "outputId": "9d892b17-f79a-4bad-a701-ee6f2d4af56d"
      },
      "source": [
        "def unique(numlist): \n",
        "  temp=[] \n",
        "  for i in numlist:\n",
        "    cnt=numlist.count(i)\n",
        "    if cnt==1:\n",
        "      temp.append(i)\n",
        "  print(\"Unique Elements in the list: \",temp)\n",
        "\n",
        "lst=[1,2,6,9,1,3,5,2,1]\n",
        "\n",
        "print(\"Given elements in the list: \",lst) \n",
        "unique(lst)"
      ],
      "execution_count": null,
      "outputs": [
        {
          "output_type": "stream",
          "text": [
            "Given elements in the list:  [1, 2, 6, 9, 1, 3, 5, 2, 1]\n",
            "Unique Elements in the list:  [6, 9, 3, 5]\n"
          ],
          "name": "stdout"
        }
      ]
    },
    {
      "cell_type": "markdown",
      "metadata": {
        "id": "iS-uv0KyKDkc"
      },
      "source": [
        "Exercise 10:\n",
        "a) write a function cumulative product of a list numbers"
      ]
    },
    {
      "cell_type": "code",
      "metadata": {
        "colab": {
          "base_uri": "https://localhost:8080/"
        },
        "id": "y9LX4dqGKRV7",
        "outputId": "eeea3466-51a7-402e-dad2-eb2765424e7e"
      },
      "source": [
        "def cum_prod(numlist):\n",
        "  prod=1\n",
        "  temp=[]\n",
        "  for i in numlist:\n",
        "    prod*=i\n",
        "    temp.append(prod)\n",
        "  return temp\n",
        "\n",
        "lst=[1,2,4,5,3]\n",
        "\n",
        "print(\"Given list is: \",lst)\n",
        "print(\"Cumulative Product list is: \",cum_prod(lst))"
      ],
      "execution_count": null,
      "outputs": [
        {
          "output_type": "stream",
          "text": [
            "Given list is:  [1, 2, 4, 5, 3]\n",
            "Cumulative Product list is:  [1, 2, 8, 40, 120]\n"
          ],
          "name": "stdout"
        }
      ]
    },
    {
      "cell_type": "markdown",
      "metadata": {
        "id": "sfqHvwLiKp4m"
      },
      "source": [
        "b) write a function reverse to reverse a list. without using thne reverse function."
      ]
    },
    {
      "cell_type": "code",
      "metadata": {
        "colab": {
          "base_uri": "https://localhost:8080/"
        },
        "id": "IH-xwPMWK1CN",
        "outputId": "c38674a3-8825-4c51-9af9-2d54c547a2cc"
      },
      "source": [
        "def reverse_list(numlist):\n",
        "  i=0\n",
        "  j=len(numlist)-1\n",
        "  while(i<=j):\n",
        "    temp=numlist[i]\n",
        "    numlist[i]=numlist[j]\n",
        "    numlist[j]=temp\n",
        "    j-=1 \n",
        "    i+=1\n",
        "  return numlist\n",
        "\n",
        "lst=[1,2,3,4]\n",
        "\n",
        "print(\"Given list is: \",lst) \n",
        "reverse_list(lst) \n",
        "print(\"Reverse of the given list is: \",lst)"
      ],
      "execution_count": null,
      "outputs": [
        {
          "output_type": "stream",
          "text": [
            "Given list is:  [1, 2, 3, 4]\n",
            "Reverse of the given list is:  [4, 3, 2, 1]\n"
          ],
          "name": "stdout"
        }
      ]
    },
    {
      "cell_type": "markdown",
      "metadata": {
        "id": "eb2L5ynsLUxr"
      },
      "source": [
        "c) write function to compute gcd, lcm of two numbers.Each function shouldn't exceed one"
      ]
    },
    {
      "cell_type": "code",
      "metadata": {
        "colab": {
          "base_uri": "https://localhost:8080/"
        },
        "id": "GKA3fQPGL015",
        "outputId": "5253ad01-ccf0-4de3-8b14-7986ddd34e31"
      },
      "source": [
        "gcd=lambda a,b: a if b==0 else gcd(a,a%b)\n",
        "lcm=lambda a,b: (a*b)/gcd(a,b)\n",
        "\n",
        "x=4\n",
        "\n",
        "y=24\n",
        "\n",
        "print(\"The Given Numbers: \",x,y)\n",
        "print(\"GCD is: \", gcd(x,y))\n",
        "\n",
        "print(\"LCM is: \", lcm(x,y))"
      ],
      "execution_count": null,
      "outputs": [
        {
          "output_type": "stream",
          "text": [
            "The Given Numbers:  4 24\n",
            "GCD is:  4\n",
            "LCM is:  24.0\n"
          ],
          "name": "stdout"
        }
      ]
    },
    {
      "cell_type": "markdown",
      "metadata": {
        "id": "5nf0WrV7MMBs"
      },
      "source": [
        "exercise 11:\n",
        "a) write a program that defines a matrix and prints"
      ]
    },
    {
      "cell_type": "code",
      "metadata": {
        "colab": {
          "base_uri": "https://localhost:8080/"
        },
        "id": "Kp2dGR59MVyt",
        "outputId": "39d7fb32-0213-468e-e9ed-dd7dbd40263d"
      },
      "source": [
        "matA=[[]]\n",
        "\n",
        "rows=int(input(\"Enter row size of Matrix: \")) \n",
        "cols=int(input(\"Enter column size of Matrix: \"))\n",
        "\n",
        "matA=[[int(input(\"Enter [%d,%d] value: \"%(i,j)))for j in range(cols)]for i in range(rows)]\n",
        "\n",
        "print(\"Matrix is: \") \n",
        "for i in range(rows):\n",
        "  for j in range(cols):\n",
        "    print(matA[i][j],end='\\t')\n",
        "  print()"
      ],
      "execution_count": null,
      "outputs": [
        {
          "output_type": "stream",
          "text": [
            "Enter row size of Matrix: 3\n",
            "Enter column size of Matrix: 2\n",
            "Enter [0,0] value: 7\n",
            "Enter [0,1] value: 2\n",
            "Enter [1,0] value: 1\n",
            "Enter [1,1] value: 6\n",
            "Enter [2,0] value: 9\n",
            "Enter [2,1] value: 8\n",
            "Matrix is: \n",
            "7\t2\t\n",
            "1\t6\t\n",
            "9\t8\t\n"
          ],
          "name": "stdout"
        }
      ]
    },
    {
      "cell_type": "markdown",
      "metadata": {
        "id": "dKn-F40KNJyN"
      },
      "source": [
        "b) write a program to perform addition of two swuare matrices"
      ]
    },
    {
      "cell_type": "code",
      "metadata": {
        "colab": {
          "base_uri": "https://localhost:8080/"
        },
        "id": "U79LYm-qOBFa",
        "outputId": "68826119-5b83-402d-c2e2-9d8fb65a3139"
      },
      "source": [
        "def matRead(r,c):\n",
        "  return [[int(input(\"Enter [%d,%d] value: \"%(i,j)))for j in range(cols)]for i in range(rows)]\n",
        "\n",
        "\n",
        "def matDisp(mat,r,c):\n",
        "  for i in range(r):\n",
        "    for j in range(c):\n",
        "      print(mat[i][j],end='\\t')\n",
        "    print()\n",
        "\n",
        "matA=[[]]\n",
        "\n",
        "matB=[[]]\n",
        "\n",
        "matSum=[[]]\n",
        "\n",
        "rows=int(input(\"Enter row size of the Matrix: \"))\n",
        "\n",
        "cols=int(input(\"Enter column size of the Matrix: \"))\n",
        "\n",
        "if rows==cols:\n",
        "  print(\"Enter Matrix-A elements:\") \n",
        "  matA=matRead(rows,cols)\n",
        "  print(\"Enter Matrix-B elements: \") \n",
        "  matB=matRead(rows,cols)\n",
        "  print(\"Matrix-A is: \")\n",
        "  matDisp(matA,rows,cols)\n",
        "  print(\"Matrix-B is: \")\n",
        "  matDisp(matB,rows,cols)\n",
        "  matSum=[[matA[i][j]+matB[i][j] for j in range(cols)]for i in range(rows)]\n",
        "  print(\"Sum of Matrices is: \")\n",
        "  matDisp(matSum,rows,cols)\n",
        "\n",
        "else:\n",
        "  print(\"Matrices Addition is Not possible\")"
      ],
      "execution_count": null,
      "outputs": [
        {
          "output_type": "stream",
          "text": [
            "Enter row size of the Matrix: 2\n",
            "Enter column size of the Matrix: 2\n",
            "Enter Matrix-A elements:\n",
            "Enter [0,0] value: 1\n",
            "Enter [0,1] value: 2\n",
            "Enter [1,0] value: 3\n",
            "Enter [1,1] value: 4\n",
            "Enter Matrix-B elements: \n",
            "Enter [0,0] value: 5\n",
            "Enter [0,1] value: 6\n",
            "Enter [1,0] value: 7\n",
            "Enter [1,1] value: 8\n",
            "Matrix-A is: \n",
            "1\t2\t\n",
            "3\t4\t\n",
            "Matrix-B is: \n",
            "5\t6\t\n",
            "7\t8\t\n",
            "Sum of Matrices is: \n",
            "6\t8\t\n",
            "10\t12\t\n"
          ],
          "name": "stdout"
        }
      ]
    },
    {
      "cell_type": "markdown",
      "metadata": {
        "id": "dtFtUKaZQ5ff"
      },
      "source": [
        "c) write a program to perform multiplication of two square matrices"
      ]
    },
    {
      "cell_type": "code",
      "metadata": {
        "colab": {
          "base_uri": "https://localhost:8080/"
        },
        "id": "gPXMh5Z_RdlN",
        "outputId": "0a56173b-0f44-48cb-bc1e-1d223f614841"
      },
      "source": [
        "def matRead(r,c):\n",
        "  return [[int(input(\"Enter [%d,%d] value: \"%(i,j)))for j in range(cols)]for i in range(rows)]\n",
        "\n",
        "\n",
        "def matDisp(mat,r,c):\n",
        "  for i in range(r):\n",
        "    for j in range(c):\n",
        "      print(mat[i][j],end='\\t')\n",
        "    print()\n",
        "\n",
        "matA=[[]]\n",
        "\n",
        "matB=[[]]\n",
        "\n",
        "matSum=[[]]\n",
        "\n",
        "rows=int(input(\"Enter row size of the Matrix: \"))\n",
        "\n",
        "cols=int(input(\"Enter column size of the Matrix: \"))\n",
        "if rows==cols:\n",
        "  print(\"Enter Matrix-A: \")\n",
        "  matA=matRead(rows,cols)\n",
        "  print(\"Enter Matrix-B: \")\n",
        "  matB=matRead(rows,cols)\n",
        "  matMul=[[0 for j in range(cols)] for i in range(rows) ]\n",
        "  for i in range(rows):\n",
        "    for j in range(cols):\n",
        "      for k in range(cols): \n",
        "        matMul[i][j]+=matA[i][k]*matB[k][j]\n",
        "  print(\"Matrix-A is: \")\n",
        "  matDisp(matA,rows,cols)\n",
        "  print(\"Matrix-B is: \")\n",
        "  matDisp(matB,rows,cols)\n",
        "  print(\"Multiplication of Matrices is: \")\n",
        "  matDisp(matMul,rows,cols)\n",
        "\n",
        "else:\n",
        "  print(\"Matrices Multiplication is not possible\")"
      ],
      "execution_count": null,
      "outputs": [
        {
          "output_type": "stream",
          "text": [
            "Enter row size of the Matrix: 2\n",
            "Enter column size of the Matrix: 2\n",
            "Enter Matrix-A: \n",
            "Enter [0,0] value: 2\n",
            "Enter [0,1] value: 3\n",
            "Enter [1,0] value: 5\n",
            "Enter [1,1] value: 6\n",
            "Enter Matrix-B: \n",
            "Enter [0,0] value: 1\n",
            "Enter [0,1] value: 2\n",
            "Enter [1,0] value: 3\n",
            "Enter [1,1] value: 4\n",
            "Matrix-A is: \n",
            "2\t3\t\n",
            "5\t6\t\n",
            "Matrix-B is: \n",
            "1\t2\t\n",
            "3\t4\t\n",
            "Multiplication of Matrices is: \n",
            "11\t16\t\n",
            "23\t34\t\n"
          ],
          "name": "stdout"
        }
      ]
    },
    {
      "cell_type": "markdown",
      "metadata": {
        "id": "26QRTVYxS6QK"
      },
      "source": [
        "Excercise 12:\n",
        "b) write a script that mports requests and fetch contents from the page"
      ]
    },
    {
      "cell_type": "code",
      "metadata": {
        "colab": {
          "base_uri": "https://localhost:8080/"
        },
        "id": "rzE8Q8DgTFXp",
        "outputId": "de73344a-c16d-4184-fd38-59ebc81efda8"
      },
      "source": [
        "import requests\n",
        "\n",
        "r=requests.get('https://www.google.com')\n",
        "\n",
        "print(\"Statuscode: \",r.status_code)\n",
        "\n",
        "print(\"Header Content: \", r.headers['content-type'])\n",
        "\n",
        "print(r.text)"
      ],
      "execution_count": null,
      "outputs": [
        {
          "output_type": "stream",
          "text": [
            "Statuscode:  200\n",
            "Header Content:  text/html; charset=ISO-8859-1\n",
            "<!doctype html><html itemscope=\"\" itemtype=\"http://schema.org/WebPage\" lang=\"en\"><head><meta content=\"Search the world's information, including webpages, images, videos and more. Google has many special features to help you find exactly what you're looking for.\" name=\"description\"><meta content=\"noodp\" name=\"robots\"><meta content=\"text/html; charset=UTF-8\" http-equiv=\"Content-Type\"><meta content=\"/logos/doodles/2021/pedro-linares-lopezs-115th-birthday-6753651837108435.30-l.png\" itemprop=\"image\"><meta content=\"Pedro Linares López's 115th Birthday\" property=\"twitter:title\"><meta content=\"Pedro Linares López's 115th Birthday! #GoogleDoodle\" property=\"twitter:description\"><meta content=\"Pedro Linares López's 115th Birthday! #GoogleDoodle\" property=\"og:description\"><meta content=\"summary_large_image\" property=\"twitter:card\"><meta content=\"@GoogleDoodles\" property=\"twitter:site\"><meta content=\"https://www.google.com/logos/doodles/2021/pedro-linares-lopezs-115th-birthday-6753651837108435.4-2x.png\" property=\"twitter:image\"><meta content=\"https://www.google.com/logos/doodles/2021/pedro-linares-lopezs-115th-birthday-6753651837108435.4-2x.png\" property=\"og:image\"><meta content=\"1400\" property=\"og:image:width\"><meta content=\"460\" property=\"og:image:height\"><title>Google</title><script nonce=\"6p6FmzbFheL3SAIEr+RPdQ==\">(function(){window.google={kEI:'sbPaYIrVOPaDwbkPjYKFyAQ',kEXPI:'0,772215,1,530320,92,56781,954,5105,206,2415,2389,926,1390,383,246,5,1354,4936,314,16232,10,1106274,1197713,569,328985,51223,16115,28684,17572,4859,1361,9290,3026,17583,4020,978,13228,3847,4192,6430,1142,13386,4517,2777,920,5080,1593,1279,2212,530,149,1103,840,1983,3,4311,3514,606,2023,1777,520,14670,3227,2845,7,5599,6755,5096,7540,336,3749,1180,108,1456,27,1924,908,2,940,15325,432,3,346,1244,1,5445,148,5990,5333,2652,4,1528,2304,1236,5226,577,74,1983,2626,2015,3791,276,7434,3824,3050,2658,4243,2293,821,30,1677,9736,2215,1591,714,638,37,1457,619,4967,9765,770,665,5824,2533,992,1055,2047,17,3121,6,908,3,3541,1,5349,3277,6087,1,1810,283,38,874,5992,6754,984,4788,2,1394,756,769,8,1,1272,1715,2,3057,483,1532,523,1,2,2,3172,440,627,4,32,4,1341,3930,2,114,4,683,442,185,157,255,55,4,434,1453,926,91,30,286,2014,1275,1076,3096,407,1575,3,512,1606,3759,1378,586,3,1040,644,516,1269,1798,1627,3,1493,2,507,604,837,33,906,137,1204,1,56,4309,685,36,2,631,204,3,56,64,30,1454,784,1399,1628,58,13,695,753,320,2066,67,1,12,3,1,704,242,345,236,225,166,655,1078,693,1,8,10,1,8,41,1745,439,119,395,84,1635,276,5,57,994,591,1001,276,595,51,401,29,4,7,24,92,246,384,37,2,295,145,416,1531,592,229,5622542,194,32,63,155,2,59,32,1802798,4193979,46,2800651,882,444,1,2,80,1,1796,1,9,2,2551,1,748,141,795,563,1,4265,1,1,2,1331,3299,843,2609,155,17,13,72,139,4,2,20,2,169,13,19,46,5,39,96,548,29,2,2,1,2,1,2,2,7,4,1,2,2,2,2,2,2,353,513,186,1,1,27,4,13,2,6,2,14,19,16,5,24,1,2,23,3,2,2,2,2,2,4,2,3,3,23954992,2857454,1152819,268,1835,24965,1502,2,2374,3,120,3,6,338,3,1453,386,501,74,1157,623',kBL:'agTH'};google.sn='webhp';google.kHL='en';})();(function(){\n",
            "var f=this||self;var h,k=[];function l(a){for(var b;a&&(!a.getAttribute||!(b=a.getAttribute(\"eid\")));)a=a.parentNode;return b||h}function m(a){for(var b=null;a&&(!a.getAttribute||!(b=a.getAttribute(\"leid\")));)a=a.parentNode;return b}\n",
            "function n(a,b,c,d,g){var e=\"\";c||-1!==b.search(\"&ei=\")||(e=\"&ei=\"+l(d),-1===b.search(\"&lei=\")&&(d=m(d))&&(e+=\"&lei=\"+d));d=\"\";!c&&f._cshid&&-1===b.search(\"&cshid=\")&&\"slh\"!==a&&(d=\"&cshid=\"+f._cshid);c=c||\"/\"+(g||\"gen_204\")+\"?atyp=i&ct=\"+a+\"&cad=\"+b+e+\"&zx=\"+Date.now()+d;/^http:/i.test(c)&&\"https:\"===window.location.protocol&&(google.ml&&google.ml(Error(\"a\"),!1,{src:c,glmm:1}),c=\"\");return c};h=google.kEI;google.getEI=l;google.getLEI=m;google.ml=function(){return null};google.log=function(a,b,c,d,g){if(c=n(a,b,c,d,g)){a=new Image;var e=k.length;k[e]=a;a.onerror=a.onload=a.onabort=function(){delete k[e]};a.src=c}};google.logUrl=n;}).call(this);(function(){\n",
            "google.y={};google.sy=[];google.x=function(a,b){if(a)var c=a.id;else{do c=Math.random();while(google.y[c])}google.y[c]=[a,b];return!1};google.sx=function(a){google.sy.push(a)};google.lm=[];google.plm=function(a){google.lm.push.apply(google.lm,a)};google.lq=[];google.load=function(a,b,c){google.lq.push([[a],b,c])};google.loadAll=function(a,b){google.lq.push([a,b])};google.bx=!1;google.lx=function(){};}).call(this);google.f={};(function(){\n",
            "document.documentElement.addEventListener(\"submit\",function(b){var a;if(a=b.target){var c=a.getAttribute(\"data-submitfalse\");a=\"1\"==c||\"q\"==c&&!a.elements.q.value?!0:!1}else a=!1;a&&(b.preventDefault(),b.stopPropagation())},!0);document.documentElement.addEventListener(\"click\",function(b){var a;a:{for(a=b.target;a&&a!=document.documentElement;a=a.parentElement)if(\"A\"==a.tagName){a=\"1\"==a.getAttribute(\"data-nohref\");break a}a=!1}a&&b.preventDefault()},!0);}).call(this);</script><style>#gbar,#guser{font-size:13px;padding-top:1px !important;}#gbar{height:22px}#guser{padding-bottom:7px !important;text-align:right}.gbh,.gbd{border-top:1px solid #c9d7f1;font-size:1px}.gbh{height:0;position:absolute;top:24px;width:100%}@media all{.gb1{height:22px;margin-right:.5em;vertical-align:top}#gbar{float:left}}a.gb1,a.gb4{text-decoration:underline !important}a.gb1,a.gb4{color:#00c !important}.gbi .gb4{color:#dd8e27 !important}.gbf .gb4{color:#900 !important}\n",
            "</style><style>body,td,a,p,.h{font-family:arial,sans-serif}body{margin:0;overflow-y:scroll}#gog{padding:3px 8px 0}td{line-height:.8em}.gac_m td{line-height:17px}form{margin-bottom:20px}.h{color:#1558d6}em{font-weight:bold;font-style:normal}.lst{height:25px;width:496px}.gsfi,.lst{font:18px arial,sans-serif}.gsfs{font:17px arial,sans-serif}.ds{display:inline-box;display:inline-block;margin:3px 0 4px;margin-left:4px}input{font-family:inherit}body{background:#fff;color:#000}a{color:#4b11a8;text-decoration:none}a:hover,a:active{text-decoration:underline}.fl a{color:#1558d6}a:visited{color:#4b11a8}.sblc{padding-top:5px}.sblc a{display:block;margin:2px 0;margin-left:13px;font-size:11px}.lsbb{background:#f8f9fa;border:solid 1px;border-color:#dadce0 #70757a #70757a #dadce0;height:30px}.lsbb{display:block}#WqQANb a{display:inline-block;margin:0 12px}.lsb{background:url(/images/nav_logo229.png) 0 -261px repeat-x;border:none;color:#000;cursor:pointer;height:30px;margin:0;outline:0;font:15px arial,sans-serif;vertical-align:top}.lsb:active{background:#dadce0}.lst:focus{outline:none}</style><script nonce=\"6p6FmzbFheL3SAIEr+RPdQ==\"></script></head><body bgcolor=\"#fff\"><script nonce=\"6p6FmzbFheL3SAIEr+RPdQ==\">(function(){var src='/images/nav_logo229.png';var iesg=false;document.body.onload = function(){window.n && window.n();if (document.images){new Image().src=src;}\n",
            "if (!iesg){document.f&&document.f.q.focus();document.gbqf&&document.gbqf.q.focus();}\n",
            "}\n",
            "})();</script><div id=\"mngb\"><div id=gbar><nobr><b class=gb1>Search</b> <a class=gb1 href=\"https://www.google.com/imghp?hl=en&tab=wi\">Images</a> <a class=gb1 href=\"https://maps.google.com/maps?hl=en&tab=wl\">Maps</a> <a class=gb1 href=\"https://play.google.com/?hl=en&tab=w8\">Play</a> <a class=gb1 href=\"https://www.youtube.com/?gl=US&tab=w1\">YouTube</a> <a class=gb1 href=\"https://news.google.com/?tab=wn\">News</a> <a class=gb1 href=\"https://mail.google.com/mail/?tab=wm\">Gmail</a> <a class=gb1 href=\"https://drive.google.com/?tab=wo\">Drive</a> <a class=gb1 style=\"text-decoration:none\" href=\"https://www.google.com/intl/en/about/products?tab=wh\"><u>More</u> &raquo;</a></nobr></div><div id=guser width=100%><nobr><span id=gbn class=gbi></span><span id=gbf class=gbf></span><span id=gbe></span><a href=\"http://www.google.com/history/optout?hl=en\" class=gb4>Web History</a> | <a  href=\"/preferences?hl=en\" class=gb4>Settings</a> | <a target=_top id=gb_70 href=\"https://accounts.google.com/ServiceLogin?hl=en&passive=true&continue=https://www.google.com/&ec=GAZAAQ\" class=gb4>Sign in</a></nobr></div><div class=gbh style=left:0></div><div class=gbh style=right:0></div></div><center><br clear=\"all\" id=\"lgpd\"><div id=\"lga\"><a href=\"/search?ie=UTF-8&amp;q=Pedro+Linares+L%C3%B3pez&amp;oi=ddle&amp;ct=144867176&amp;hl=en&amp;kgmid=/m/08g16c&amp;sa=X&amp;ved=0ahUKEwjK8baDkrzxAhX2QTABHQ1BAUkQPQgD\"><img alt=\"Pedro Linares López's 115th Birthday\" border=\"0\" height=\"220\" src=\"/logos/doodles/2021/pedro-linares-lopezs-115th-birthday-6753651837108435.30-l.png\" title=\"Pedro Linares López's 115th Birthday\" width=\"700\" id=\"hplogo\"><br></a><br></div><form action=\"/search\" name=\"f\"><table cellpadding=\"0\" cellspacing=\"0\"><tr valign=\"top\"><td width=\"25%\">&nbsp;</td><td align=\"center\" nowrap=\"\"><input name=\"ie\" value=\"ISO-8859-1\" type=\"hidden\"><input value=\"en\" name=\"hl\" type=\"hidden\"><input name=\"source\" type=\"hidden\" value=\"hp\"><input name=\"biw\" type=\"hidden\"><input name=\"bih\" type=\"hidden\"><div class=\"ds\" style=\"height:32px;margin:4px 0\"><input class=\"lst\" style=\"margin:0;padding:5px 8px 0 6px;vertical-align:top;color:#000\" autocomplete=\"off\" value=\"\" title=\"Google Search\" maxlength=\"2048\" name=\"q\" size=\"57\"></div><br style=\"line-height:0\"><span class=\"ds\"><span class=\"lsbb\"><input class=\"lsb\" value=\"Google Search\" name=\"btnG\" type=\"submit\"></span></span><span class=\"ds\"><span class=\"lsbb\"><input class=\"lsb\" id=\"tsuid1\" value=\"I'm Feeling Lucky\" name=\"btnI\" type=\"submit\"><script nonce=\"6p6FmzbFheL3SAIEr+RPdQ==\">(function(){var id='tsuid1';document.getElementById(id).onclick = function(){if (this.form.q.value){this.checked = 1;if (this.form.iflsig)this.form.iflsig.disabled = false;}\n",
            "else top.location='/doodles/';};})();</script><input value=\"AINFCbYAAAAAYNrBwQyMTAT4rKf2ITtOxzBC5c6d_HVQ\" name=\"iflsig\" type=\"hidden\"></span></span></td><td class=\"fl sblc\" align=\"left\" nowrap=\"\" width=\"25%\"><a href=\"/advanced_search?hl=en&amp;authuser=0\">Advanced search</a></td></tr></table><input id=\"gbv\" name=\"gbv\" type=\"hidden\" value=\"1\"><script nonce=\"6p6FmzbFheL3SAIEr+RPdQ==\">(function(){\n",
            "var a,b=\"1\";if(document&&document.getElementById)if(\"undefined\"!=typeof XMLHttpRequest)b=\"2\";else if(\"undefined\"!=typeof ActiveXObject){var c,d,e=[\"MSXML2.XMLHTTP.6.0\",\"MSXML2.XMLHTTP.3.0\",\"MSXML2.XMLHTTP\",\"Microsoft.XMLHTTP\"];for(c=0;d=e[c++];)try{new ActiveXObject(d),b=\"2\"}catch(h){}}a=b;if(\"2\"==a&&-1==location.search.indexOf(\"&gbv=2\")){var f=google.gbvu,g=document.getElementById(\"gbv\");g&&(g.value=a);f&&window.setTimeout(function(){location.href=f},0)};}).call(this);</script></form><div id=\"gac_scont\"></div><div style=\"font-size:83%;min-height:3.5em\"><br></div><span id=\"footer\"><div style=\"font-size:10pt\"><div style=\"margin:19px auto;text-align:center\" id=\"WqQANb\"><a href=\"/intl/en/ads/\">Advertising Programs</a><a href=\"/services/\">Business Solutions</a><a href=\"/intl/en/about.html\">About Google</a></div></div><p style=\"font-size:8pt;color:#70757a\">&copy; 2021 - <a href=\"/intl/en/policies/privacy/\">Privacy</a> - <a href=\"/intl/en/policies/terms/\">Terms</a></p></span></center><script nonce=\"6p6FmzbFheL3SAIEr+RPdQ==\">(function(){window.google.cdo={height:757,width:1440};(function(){\n",
            "var a=window.innerWidth,b=window.innerHeight;if(!a||!b){var c=window.document,d=\"CSS1Compat\"==c.compatMode?c.documentElement:c.body;a=d.clientWidth;b=d.clientHeight}a&&b&&(a!=google.cdo.width||b!=google.cdo.height)&&google.log(\"\",\"\",\"/client_204?&atyp=i&biw=\"+a+\"&bih=\"+b+\"&ei=\"+google.kEI);}).call(this);})();</script> <script nonce=\"6p6FmzbFheL3SAIEr+RPdQ==\">(function(){google.xjs={ck:'',cs:'',excm:[],pml:false};})();</script>  <script nonce=\"6p6FmzbFheL3SAIEr+RPdQ==\">(function(){var u='/xjs/_/js/k\\x3dxjs.hp.en_US.JRh4tN6N9QQ.O/m\\x3dsb_he,d/am\\x3dAHgCLA/d\\x3d1/ed\\x3d1/rs\\x3dACT90oGq1Ln_99CJXORDJChcIkowqosPIA';\n",
            "var e=this||self,f=function(a){return a};var g;var l=function(a,b){this.g=b===h?a:\"\"};l.prototype.toString=function(){return this.g+\"\"};var h={};function m(){var a=u;google.lx=function(){n(a);google.lx=function(){}};google.bx||google.lx()}\n",
            "function n(a){google.timers&&google.timers.load&&google.tick&&google.tick(\"load\",\"xjsls\");var b=document;var c=\"SCRIPT\";\"application/xhtml+xml\"===b.contentType&&(c=c.toLowerCase());c=b.createElement(c);if(void 0===g){b=null;var k=e.trustedTypes;if(k&&k.createPolicy){try{b=k.createPolicy(\"goog#html\",{createHTML:f,createScript:f,createScriptURL:f})}catch(p){e.console&&e.console.error(p.message)}g=b}else g=b}a=(b=g)?b.createScriptURL(a):a;a=new l(a,h);c.src=a instanceof l&&a.constructor===l?a.g:\"type_error:TrustedResourceUrl\";var d;a=(c.ownerDocument&&c.ownerDocument.defaultView||window).document;(d=(a=null===(d=a.querySelector)||void 0===d?void 0:d.call(a,\"script[nonce]\"))?a.nonce||a.getAttribute(\"nonce\")||\"\":\"\")&&c.setAttribute(\"nonce\",d);document.body.appendChild(c);google.psa=!0};setTimeout(function(){m()},0);})();(function(){window.google.xjsu='/xjs/_/js/k\\x3dxjs.hp.en_US.JRh4tN6N9QQ.O/m\\x3dsb_he,d/am\\x3dAHgCLA/d\\x3d1/ed\\x3d1/rs\\x3dACT90oGq1Ln_99CJXORDJChcIkowqosPIA';})();function _DumpException(e){throw e;}\n",
            "function _F_installCss(c){}\n",
            "(function(){google.jl={attn:false,blt:'none',dw:false,emtn:0,ine:false,lls:'default',pdt:0,snet:true,ubm:false,uwp:true};})();(function(){var pmc='{\\x22d\\x22:{},\\x22sb_he\\x22:{\\x22agen\\x22:false,\\x22cgen\\x22:false,\\x22client\\x22:\\x22heirloom-hp\\x22,\\x22dh\\x22:true,\\x22dhqt\\x22:true,\\x22ds\\x22:\\x22\\x22,\\x22ffql\\x22:\\x22en\\x22,\\x22fl\\x22:true,\\x22host\\x22:\\x22google.com\\x22,\\x22isbh\\x22:28,\\x22jsonp\\x22:true,\\x22msgs\\x22:{\\x22cibl\\x22:\\x22Clear Search\\x22,\\x22dym\\x22:\\x22Did you mean:\\x22,\\x22lcky\\x22:\\x22I\\\\u0026#39;m Feeling Lucky\\x22,\\x22lml\\x22:\\x22Learn more\\x22,\\x22oskt\\x22:\\x22Input tools\\x22,\\x22psrc\\x22:\\x22This search was removed from your \\\\u003Ca href\\x3d\\\\\\x22/history\\\\\\x22\\\\u003EWeb History\\\\u003C/a\\\\u003E\\x22,\\x22psrl\\x22:\\x22Remove\\x22,\\x22sbit\\x22:\\x22Search by image\\x22,\\x22srch\\x22:\\x22Google Search\\x22},\\x22nrft\\x22:false,\\x22ovr\\x22:{},\\x22pq\\x22:\\x22\\x22,\\x22refpd\\x22:true,\\x22rfs\\x22:[],\\x22sbas\\x22:\\x220 3px 8px 0 rgba(0,0,0,0.2),0 0 0 1px rgba(0,0,0,0.08)\\x22,\\x22sbpl\\x22:16,\\x22sbpr\\x22:16,\\x22scd\\x22:10,\\x22stok\\x22:\\x22LpEpVhi_2iNAPNn2vRjfe3dNoXE\\x22,\\x22uhde\\x22:false}}';google.pmc=JSON.parse(pmc);})();</script>        </body></html>\n"
          ],
          "name": "stdout"
        }
      ]
    },
    {
      "cell_type": "markdown",
      "metadata": {
        "id": "NZ4ZhFV8Tq4-"
      },
      "source": [
        ""
      ]
    },
    {
      "cell_type": "code",
      "metadata": {
        "colab": {
          "base_uri": "https://localhost:8080/"
        },
        "id": "KRoFzNIJT4Q1",
        "outputId": "0882c7ce-3569-4028-b8b2-22b1411ae18e"
      },
      "source": [
        "from flask import Flask,render_template\n",
        "app=Flask(__name__)\n",
        "print(app)\n",
        "@app.route(\"/\")\n",
        "\n",
        "def main():\n",
        "  return render_template('login.html')\n",
        "\n",
        "if __name__== \"__main__\":\n",
        "  app.run(host=\"127.0.0.1\",port=2500)"
      ],
      "execution_count": null,
      "outputs": [
        {
          "output_type": "stream",
          "text": [
            "<Flask '__main__'>\n",
            " * Serving Flask app \"__main__\" (lazy loading)\n",
            " * Environment: production\n",
            "\u001b[31m   WARNING: This is a development server. Do not use it in a production deployment.\u001b[0m\n",
            "\u001b[2m   Use a production WSGI server instead.\u001b[0m\n",
            " * Debug mode: off\n"
          ],
          "name": "stdout"
        },
        {
          "output_type": "stream",
          "text": [
            " * Running on http://127.0.0.1:2500/ (Press CTRL+C to quit)\n"
          ],
          "name": "stderr"
        }
      ]
    },
    {
      "cell_type": "markdown",
      "metadata": {
        "id": "6fxtIpXVVezd"
      },
      "source": [
        "Exercise 13:\n",
        "i) class variable instance variable and illustrate of the self-variable"
      ]
    },
    {
      "cell_type": "code",
      "metadata": {
        "colab": {
          "base_uri": "https://localhost:8080/"
        },
        "id": "9fm0eja6VxVe",
        "outputId": "d9f89535-1607-4000-c8bd-d89be1984749"
      },
      "source": [
        "class Robot:\n",
        "  what=\"Machine\"\n",
        "  name=\"Chitti\" \n",
        "  version=1.0\n",
        "  speed=\"1THz\"\n",
        "  memory=\"1ZB\"\n",
        "  def update(upd):\n",
        "    upd.version=2.0\n",
        "    upd.speed=\"2THz\"\n",
        "    upd.memory=\"2ZB\"\n",
        "  def disp(self):\n",
        "    print(\"Myself is a\",robj.what)\n",
        "    print(\"MyName is a\",robj.name)\n",
        "    print(\"Speed: \",robj.speed)\n",
        "    print(\"Memory: \",robj.memory)\n",
        "    print(\"Version :\",robj.version)\n",
        "\n",
        "robj=Robot()\n",
        "robj.disp()\n",
        "\n",
        "print(\"------Update-----\")\n",
        "\n",
        "robj.update()\n",
        "\n",
        "robj.disp()"
      ],
      "execution_count": null,
      "outputs": [
        {
          "output_type": "stream",
          "text": [
            "Myself is a Machine\n",
            "MyName is a Chitti\n",
            "Speed:  1THz\n",
            "Memory:  1ZB\n",
            "Version : 1.0\n",
            "------Update-----\n",
            "Myself is a Machine\n",
            "MyName is a Chitti\n",
            "Speed:  2THz\n",
            "Memory:  2ZB\n",
            "Version : 2.0\n"
          ],
          "name": "stdout"
        }
      ]
    },
    {
      "cell_type": "markdown",
      "metadata": {
        "id": "I_HFltfWUuVA"
      },
      "source": [
        "ii) ATM Machine"
      ]
    },
    {
      "cell_type": "code",
      "metadata": {
        "id": "Kv2QtyAvXlhp",
        "colab": {
          "base_uri": "https://localhost:8080/"
        },
        "outputId": "2b47c90c-01e7-4c54-bd97-840bf6430b30"
      },
      "source": [
        "class ATM:\n",
        "  balance=0\n",
        "    \n",
        "  def enquire(self): \n",
        "    print(\"Balance: \",self.balance)\n",
        "  def deposit(self):\n",
        "    amount=int(input(\"Enter the Deposit Amount:\"))\n",
        "    self.balance+=amount\n",
        "    self.enquire()\n",
        "  def withdraw(self):\n",
        "    amount=int(input(\"Enter the Withdraw Amount: \"))\n",
        "    if self.balance<amount:\n",
        "      print(\"Insufficient Balance.....!\")\n",
        "    else:\n",
        "      self.balance-=amount\n",
        "      self.enquire()\n",
        "\n",
        "\n",
        "aobj=ATM()\n",
        "while(True):\n",
        "  print(\"*****Menu****\")\n",
        "  print(\"1.Deposit\")\n",
        "  print(\"2.Withdarw\")\n",
        "  print(\"3.Balance\")\n",
        "  print(\"0.Exit\")\n",
        "  ch=int(input(\"Enter Your Choice: \"))\n",
        "  if ch==0:\n",
        "    break\n",
        "  elif ch==1:\n",
        "    aobj.deposit()\n",
        "  elif ch==2:\n",
        "    aobj.withdraw()\n",
        "  elif ch==3:\n",
        "    aobj.enquire()\n",
        "  else:\n",
        "    print(\"Invalid choice:\")\n",
        "    pass"
      ],
      "execution_count": null,
      "outputs": [
        {
          "output_type": "stream",
          "text": [
            "*****Menu****\n",
            "1.Deposit\n",
            "2.Withdarw\n",
            "3.Balance\n",
            "0.Exit\n",
            "Enter Your Choice: 1\n",
            "Enter the Deposit Amount:1000\n",
            "Balance:  1000\n",
            "*****Menu****\n",
            "1.Deposit\n",
            "2.Withdarw\n",
            "3.Balance\n",
            "0.Exit\n",
            "Enter Your Choice: 2\n",
            "Enter the Withdraw Amount: 500\n",
            "Balance:  500\n",
            "*****Menu****\n",
            "1.Deposit\n",
            "2.Withdarw\n",
            "3.Balance\n",
            "0.Exit\n",
            "Enter Your Choice: 3\n",
            "Balance:  500\n",
            "*****Menu****\n",
            "1.Deposit\n",
            "2.Withdarw\n",
            "3.Balance\n",
            "0.Exit\n",
            "Enter Your Choice: 0\n"
          ],
          "name": "stdout"
        }
      ]
    },
    {
      "cell_type": "markdown",
      "metadata": {
        "id": "TsXrFg6esKTT"
      },
      "source": [
        "Exercise 14: a)write a GUI for an expression calculator using tk"
      ]
    },
    {
      "cell_type": "markdown",
      "metadata": {
        "id": "3mnmj9vDsWsU"
      },
      "source": [
        ""
      ]
    },
    {
      "cell_type": "code",
      "metadata": {
        "colab": {
          "base_uri": "https://localhost:8080/",
          "height": 350
        },
        "id": "qmNQpGHEsK3r",
        "outputId": "8c9b8e81-5233-4c7b-b62c-f0a22514d40a"
      },
      "source": [
        "from tkinter import *\n",
        "\n",
        "win=Tk()\n",
        "win.geometry(\"312x324\")  \n",
        "win.resizable(0, 0) \n",
        "win.title(\"Calculator\")\n",
        "\n",
        "\n",
        "\n",
        "def btn_click(item):\n",
        "    global expression\n",
        "    expression = expression + str(item)\n",
        "    input_text.set(expression)\n",
        "\n",
        "\n",
        "def bt_clear(): \n",
        "    global expression \n",
        "    expression = \"\"\n",
        "    input_text.set(\"\")\n",
        "\n",
        "\n",
        "\n",
        "def bt_equal():\n",
        "    global expression\n",
        "    result = str(eval(expression))\n",
        "    input_text.set(result)\n",
        "    expression = \"\"\n",
        "\n",
        "expression = \"\"\n",
        "\n",
        "\n",
        "input_text = StringVar()\n",
        "\n",
        "\n",
        "\n",
        "input_frame = Frame(win, width=312, height=50, bd=0, highlightbackground=\"black\", highlightcolor=\"black\", highlightthickness=2)\n",
        "\n",
        "input_frame.pack(side=TOP)\n",
        "input_field = Entry(input_frame, font=('arial', 18, 'bold'), textvariable=input_text, width=50, bg=\"#eee\", bd=0, justify=RIGHT)\n",
        "\n",
        "input_field.grid(row=0, column=0)\n",
        "\n",
        "input_field.pack(ipady=10)\n",
        "\n",
        "\n",
        "btns_frame = Frame(win, width=312, height=272.5, bg=\"grey\")\n",
        "btns_frame.pack()\n",
        "\n",
        "# first row\n",
        "\n",
        "clear = Button(btns_frame, text = \"C\", fg = \"black\", width = 32, height = 3, bd = 0, bg = \"#eee\", cursor = \"hand2\", command = lambda: bt_clear()).grid(row = 0, column = 0, columnspan = 3, padx = 1, pady = 1)\n",
        "\n",
        "divide = Button(btns_frame, text = \"/\", fg = \"black\", width = 10, height = 3, bd = 0, bg = \"#eee\", cursor = \"hand2\", command = lambda: btn_click(\"/\")).grid(row = 0, column = 3, padx = 1, pady = 1)\n",
        "\n",
        "# second row\n",
        "\n",
        "seven = Button(btns_frame, text = \"7\", fg = \"black\", width = 10, height = 3, bd = 0, bg = \"#fff\", cursor = \"hand2\", command = lambda: btn_click(7)).grid(row = 1, column = 0, padx = 1, pady = 1)\n",
        "\n",
        "eight = Button(btns_frame, text = \"8\", fg = \"black\", width = 10, height = 3, bd = 0, bg = \"#fff\", cursor = \"hand2\", command = lambda: btn_click(8)).grid(row = 1, column = 1, padx = 1, pady = 1)\n",
        "\n",
        "nine = Button(btns_frame, text = \"9\", fg = \"black\", width = 10, height = 3, bd = 0, bg = \"#fff\", cursor = \"hand2\", command = lambda: btn_click(9)).grid(row = 1, column = 2, padx = 1, pady = 1)\n",
        "\n",
        "multiply = Button(btns_frame, text = \"\", fg = \"black\", width = 10, height = 3, bd = 0, bg = \"#eee\", cursor = \"hand2\", command = lambda: btn_click(\"\")).grid(row = 1, column = 3, padx = 1, pady = 1)\n",
        "\n",
        "# third row\n",
        "\n",
        "four = Button(btns_frame, text = \"4\", fg = \"black\", width = 10, height = 3, bd = 0, bg = \"#fff\", cursor = \"hand2\", command = lambda: btn_click(4)).grid(row = 2, column = 0, padx = 1, pady = 1)\n",
        "\n",
        "five = Button(btns_frame, text = \"5\", fg = \"black\", width = 10, height = 3, bd = 0, bg = \"#fff\", cursor = \"hand2\", command = lambda: btn_click(5)).grid(row = 2, column = 1, padx = 1, pady = 1)\n",
        "\n",
        "six = Button(btns_frame, text = \"6\", fg = \"black\", width = 10, height = 3, bd = 0, bg = \"#fff\", cursor = \"hand2\", command = lambda: btn_click(6)).grid(row = 2, column = 2, padx = 1, pady = 1)\n",
        "\n",
        "minus = Button(btns_frame, text = \"-\", fg = \"black\", width = 10, height = 3, bd = 0, bg = \"#eee\", cursor = \"hand2\", command = lambda: btn_click(\"-\")).grid(row = 2, column = 3, padx = 1, pady = 1)\n",
        "# fourth row\n",
        "\n",
        "one = Button(btns_frame, text = \"1\", fg = \"black\", width = 10, height = 3, bd = 0, bg = \"#fff\", cursor = \"hand2\", command = lambda: btn_click(1)).grid(row = 3, column = 0, padx = 1, pady = 1)\n",
        "\n",
        "two = Button(btns_frame, text = \"2\", fg = \"black\", width = 10, height = 3, bd = 0, bg = \"#fff\", cursor = \"hand2\", command = lambda: btn_click(2)).grid(row = 3, column = 1, padx = 1, pady = 1)\n",
        "\n",
        "three = Button(btns_frame, text = \"3\", fg = \"black\", width = 10, height = 3, bd = 0, bg = \"#fff\", cursor = \"hand2\", command = lambda: btn_click(3)).grid(row = 3, column = 2, padx = 1, pady = 1)\n",
        "\n",
        "plus = Button(btns_frame, text = \"+\", fg = \"black\", width = 10, height = 3, bd = 0, bg = \"#eee\", cursor = \"hand2\", command = lambda: btn_click(\"+\")).grid(row = 3, column = 3, padx = 1, pady = 1)\n",
        "# fifth row\n",
        "\n",
        "zero = Button(btns_frame, text = \"0\", fg = \"black\", width = 21, height = 3, bd = 0, bg = \"#fff\", cursor = \"hand2\", command = lambda: btn_click(0)).grid(row = 4, column = 0, columnspan = 2, padx = 1, pady = 1)\n",
        "\n",
        "point = Button(btns_frame, text = \".\", fg = \"black\", width = 10, height = 3, bd = 0, bg = \"#eee\", cursor = \"hand2\", command = lambda: btn_click(\".\")).grid(row = 4, column = 2, padx = 1, pady = 1)\n",
        "\n",
        "equals = Button(btns_frame, text = \"=\", fg = \"black\", width = 10, height = 3, bd = 0, bg = \"#eee\", cursor = \"hand2\", command = lambda: bt_equal()).grid(row = 4, column = 3, padx = 1, pady = 1)\n",
        "\n",
        "win.mainloop()"
      ],
      "execution_count": 2,
      "outputs": [
        {
          "output_type": "error",
          "ename": "TclError",
          "evalue": "ignored",
          "traceback": [
            "\u001b[0;31m---------------------------------------------------------------------------\u001b[0m",
            "\u001b[0;31mTclError\u001b[0m                                  Traceback (most recent call last)",
            "\u001b[0;32m<ipython-input-2-f28ff3cadd45>\u001b[0m in \u001b[0;36m<module>\u001b[0;34m()\u001b[0m\n\u001b[1;32m      1\u001b[0m \u001b[0;32mfrom\u001b[0m \u001b[0mtkinter\u001b[0m \u001b[0;32mimport\u001b[0m \u001b[0;34m*\u001b[0m\u001b[0;34m\u001b[0m\u001b[0;34m\u001b[0m\u001b[0m\n\u001b[1;32m      2\u001b[0m \u001b[0;34m\u001b[0m\u001b[0m\n\u001b[0;32m----> 3\u001b[0;31m \u001b[0mwin\u001b[0m\u001b[0;34m=\u001b[0m\u001b[0mTk\u001b[0m\u001b[0;34m(\u001b[0m\u001b[0;34m)\u001b[0m\u001b[0;34m\u001b[0m\u001b[0;34m\u001b[0m\u001b[0m\n\u001b[0m\u001b[1;32m      4\u001b[0m \u001b[0mwin\u001b[0m\u001b[0;34m.\u001b[0m\u001b[0mgeometry\u001b[0m\u001b[0;34m(\u001b[0m\u001b[0;34m\"312x324\"\u001b[0m\u001b[0;34m)\u001b[0m\u001b[0;34m\u001b[0m\u001b[0;34m\u001b[0m\u001b[0m\n\u001b[1;32m      5\u001b[0m \u001b[0mwin\u001b[0m\u001b[0;34m.\u001b[0m\u001b[0mresizable\u001b[0m\u001b[0;34m(\u001b[0m\u001b[0;36m0\u001b[0m\u001b[0;34m,\u001b[0m \u001b[0;36m0\u001b[0m\u001b[0;34m)\u001b[0m\u001b[0;34m\u001b[0m\u001b[0;34m\u001b[0m\u001b[0m\n",
            "\u001b[0;32m/usr/lib/python3.7/tkinter/__init__.py\u001b[0m in \u001b[0;36m__init__\u001b[0;34m(self, screenName, baseName, className, useTk, sync, use)\u001b[0m\n\u001b[1;32m   2021\u001b[0m                 \u001b[0mbaseName\u001b[0m \u001b[0;34m=\u001b[0m \u001b[0mbaseName\u001b[0m \u001b[0;34m+\u001b[0m \u001b[0mext\u001b[0m\u001b[0;34m\u001b[0m\u001b[0;34m\u001b[0m\u001b[0m\n\u001b[1;32m   2022\u001b[0m         \u001b[0minteractive\u001b[0m \u001b[0;34m=\u001b[0m \u001b[0;36m0\u001b[0m\u001b[0;34m\u001b[0m\u001b[0;34m\u001b[0m\u001b[0m\n\u001b[0;32m-> 2023\u001b[0;31m         \u001b[0mself\u001b[0m\u001b[0;34m.\u001b[0m\u001b[0mtk\u001b[0m \u001b[0;34m=\u001b[0m \u001b[0m_tkinter\u001b[0m\u001b[0;34m.\u001b[0m\u001b[0mcreate\u001b[0m\u001b[0;34m(\u001b[0m\u001b[0mscreenName\u001b[0m\u001b[0;34m,\u001b[0m \u001b[0mbaseName\u001b[0m\u001b[0;34m,\u001b[0m \u001b[0mclassName\u001b[0m\u001b[0;34m,\u001b[0m \u001b[0minteractive\u001b[0m\u001b[0;34m,\u001b[0m \u001b[0mwantobjects\u001b[0m\u001b[0;34m,\u001b[0m \u001b[0museTk\u001b[0m\u001b[0;34m,\u001b[0m \u001b[0msync\u001b[0m\u001b[0;34m,\u001b[0m \u001b[0muse\u001b[0m\u001b[0;34m)\u001b[0m\u001b[0;34m\u001b[0m\u001b[0;34m\u001b[0m\u001b[0m\n\u001b[0m\u001b[1;32m   2024\u001b[0m         \u001b[0;32mif\u001b[0m \u001b[0museTk\u001b[0m\u001b[0;34m:\u001b[0m\u001b[0;34m\u001b[0m\u001b[0;34m\u001b[0m\u001b[0m\n\u001b[1;32m   2025\u001b[0m             \u001b[0mself\u001b[0m\u001b[0;34m.\u001b[0m\u001b[0m_loadtk\u001b[0m\u001b[0;34m(\u001b[0m\u001b[0;34m)\u001b[0m\u001b[0;34m\u001b[0m\u001b[0;34m\u001b[0m\u001b[0m\n",
            "\u001b[0;31mTclError\u001b[0m: no display name and no $DISPLAY environment variable"
          ]
        }
      ]
    },
    {
      "cell_type": "markdown",
      "metadata": {
        "id": "IZXB0jRYsdOJ"
      },
      "source": [
        "b)write a program to implement the following figures using turtle"
      ]
    },
    {
      "cell_type": "code",
      "metadata": {
        "colab": {
          "base_uri": "https://localhost:8080/",
          "height": 129
        },
        "id": "28nzzdlQsejx",
        "outputId": "7ffadb2b-1d54-4ccb-eea2-62f7b57de715"
      },
      "source": [
        "import turtle as t\n",
        "\n",
        "c=[\"red\",\"green\",\"blue\"] \n",
        "i=0\n",
        "t.pensize(5)\n",
        "\n",
        "for angle in range(0,360,30): \n",
        "  if i>2:\n",
        "    i=0turtle\n",
        "  t.color(c[i])\n",
        "  t.seth(angle)\n",
        "  t.circle(50)\n",
        "  i+=1"
      ],
      "execution_count": 3,
      "outputs": [
        {
          "output_type": "error",
          "ename": "SyntaxError",
          "evalue": "ignored",
          "traceback": [
            "\u001b[0;36m  File \u001b[0;32m\"<ipython-input-3-c405913ca48b>\"\u001b[0;36m, line \u001b[0;32m9\u001b[0m\n\u001b[0;31m    i=0turtle\u001b[0m\n\u001b[0m            ^\u001b[0m\n\u001b[0;31mSyntaxError\u001b[0m\u001b[0;31m:\u001b[0m invalid syntax\n"
          ]
        }
      ]
    },
    {
      "cell_type": "markdown",
      "metadata": {
        "id": "xP9Vaz0Xslgy"
      },
      "source": [
        "Exercise 15: a)write a test-case to check the function even numbers which return true on passing a list of all even numbers"
      ]
    },
    {
      "cell_type": "code",
      "metadata": {
        "colab": {
          "base_uri": "https://localhost:8080/"
        },
        "id": "gV_eEaCYsskN",
        "outputId": "090d0d7f-a941-4352-8c8d-3665b07a1098"
      },
      "source": [
        "def evnNo(num):\n",
        "  stat=True\n",
        "  for i in num:\n",
        "    if i%2==1:\n",
        "      stat=False\n",
        "      break\n",
        "  return stat\n",
        "\n",
        "numbers=[]\n",
        "\n",
        "print(\"Enter the FIVE numbers\")\n",
        "for i in range(0,5):\n",
        "  numbers.append(int(input(\"Enter a value: \")))\n",
        "print(evnNo(numbers))"
      ],
      "execution_count": 6,
      "outputs": [
        {
          "output_type": "stream",
          "name": "stdout",
          "text": [
            "Enter the FIVE numbers\n",
            "Enter a value: 2\n",
            "Enter a value: 6\n",
            "Enter a value: 22\n",
            "Enter a value: 86\n",
            "Enter a value: 14\n",
            "True\n"
          ]
        }
      ]
    },
    {
      "cell_type": "markdown",
      "metadata": {
        "id": "a1pYu16qtENm"
      },
      "source": [
        "b)write a test-case to check the function reverse string which returns the reversed string"
      ]
    },
    {
      "cell_type": "code",
      "metadata": {
        "colab": {
          "base_uri": "https://localhost:8080/"
        },
        "id": "LkbWRFG-tEd3",
        "outputId": "a9f1edfb-2ca9-45b7-ab9a-6a5a312f5944"
      },
      "source": [
        "def rev_str(st):\n",
        "  return st[::-1]\n",
        "\n",
        "st=\"jabili devi\" \n",
        "print(\"Given String is: \",st)\n",
        "\n",
        "print(\"Reverse is: \",rev_str(st))"
      ],
      "execution_count": 8,
      "outputs": [
        {
          "output_type": "stream",
          "name": "stdout",
          "text": [
            "Given String is:  jabili devi\n",
            "Reverse is:  ived ilibaj\n"
          ]
        }
      ]
    },
    {
      "cell_type": "markdown",
      "metadata": {
        "id": "KHesELLhtnoU"
      },
      "source": [
        "Exercise 16: a)Build any one classical data structure"
      ]
    },
    {
      "cell_type": "code",
      "metadata": {
        "colab": {
          "base_uri": "https://localhost:8080/",
          "height": 710
        },
        "id": "JOVRwYSdtqe7",
        "outputId": "b89edfd8-85a0-44ce-c8b6-a95fc5b28d71"
      },
      "source": [
        "import sys\n",
        "a=[]\n",
        "\n",
        "while True:\n",
        "  print (\"\\n1.PUSH 2.POP 3.DISPLAY 4.EXIT\")\n",
        "  ch=int(input(\"Enter Your Choice: \"))\n",
        "  if ch==1:\n",
        "    ele=int(input(\"Enter element: \"))\n",
        "    a.append(ele) \n",
        "    print(\"Inserted\")\n",
        "  elif ch==2:\n",
        "    if len(a)==0:\n",
        "      print(\"\\t STACK IS EMPTY\")\n",
        "      \n",
        "    else:\n",
        "      print(\"Deleted element is: \", a[len(a)-1])\n",
        "      a.remove(a[len(a)-1])\n",
        "  elif ch==3:\n",
        "    if len(a)==0:\n",
        "      print(\"\\t STACK IS EMPTY\")\n",
        "    else:\n",
        "      print (\"\\tThe Elements in Stack is: \")\n",
        "      for i in reversed(a):\n",
        "        print (i)\n",
        "  elif ch==4:\n",
        "      sys.exit()\n",
        "  else:\n",
        "      print (\"\\tINVALID CHOICE\")"
      ],
      "execution_count": 9,
      "outputs": [
        {
          "name": "stdout",
          "output_type": "stream",
          "text": [
            "\n",
            "1.PUSH 2.POP 3.DISPLAY 4.EXIT\n",
            "Enter Your Choice: 1\n",
            "Enter element: 1\n",
            "Inserted\n",
            "\n",
            "1.PUSH 2.POP 3.DISPLAY 4.EXIT\n",
            "Enter Your Choice: 1\n",
            "Enter element: 2\n",
            "Inserted\n",
            "\n",
            "1.PUSH 2.POP 3.DISPLAY 4.EXIT\n",
            "Enter Your Choice: 1\n",
            "Enter element: 3\n",
            "Inserted\n",
            "\n",
            "1.PUSH 2.POP 3.DISPLAY 4.EXIT\n",
            "Enter Your Choice: 2\n",
            "Deleted element is:  3\n",
            "\n",
            "1.PUSH 2.POP 3.DISPLAY 4.EXIT\n",
            "Enter Your Choice: 5\n",
            "\tINVALID CHOICE\n",
            "\n",
            "1.PUSH 2.POP 3.DISPLAY 4.EXIT\n",
            "Enter Your Choice: 3\n",
            "\tThe Elements in Stack is: \n",
            "2\n",
            "1\n",
            "\n",
            "1.PUSH 2.POP 3.DISPLAY 4.EXIT\n",
            "Enter Your Choice: 4\n"
          ]
        },
        {
          "output_type": "error",
          "ename": "SystemExit",
          "evalue": "ignored",
          "traceback": [
            "An exception has occurred, use %tb to see the full traceback.\n",
            "\u001b[0;31mSystemExit\u001b[0m\n"
          ]
        },
        {
          "output_type": "stream",
          "name": "stderr",
          "text": [
            "/usr/local/lib/python3.7/dist-packages/IPython/core/interactiveshell.py:2890: UserWarning: To exit: use 'exit', 'quit', or Ctrl-D.\n",
            "  warn(\"To exit: use 'exit', 'quit', or Ctrl-D.\", stacklevel=1)\n"
          ]
        }
      ]
    },
    {
      "cell_type": "markdown",
      "metadata": {
        "id": "xIvVmturt5GR"
      },
      "source": [
        "b)write a program to solve knapsack problem"
      ]
    },
    {
      "cell_type": "code",
      "metadata": {
        "colab": {
          "base_uri": "https://localhost:8080/"
        },
        "id": "pgd1scvct55y",
        "outputId": "b2fd40f2-ce16-484a-9579-35a1c3662f3f"
      },
      "source": [
        "def knapSack(W, wt, val, n):\n",
        "   K= [[0 for x in range(W+1)] for x in range(n+1)]\n",
        "   for i in range(n+1):\n",
        "     for w in range(W+1):\n",
        "       if i==0 or w==0:\n",
        "          K[i][w] = 0\n",
        "       elif wt[i-1]<=w:\n",
        "          K[i][w]= max(val[i-1]+K[i-1][w-wt[i-1]],K[i-1][w])\n",
        "       else:\n",
        "          K[i][w] = K[i-1][w]\n",
        "   return K[n][W]\n",
        "val = [5, 3, 4]\n",
        "wt = [3, 2, 1]\n",
        "W = 5\n",
        "n= len(val)\n",
        "print(\"Maximum value knapsack of capacity W: \", knapSack(W, wt,val,n))"
      ],
      "execution_count": 10,
      "outputs": [
        {
          "output_type": "stream",
          "name": "stdout",
          "text": [
            "Maximum value knapsack of capacity W:  9\n"
          ]
        }
      ]
    },
    {
      "cell_type": "markdown",
      "metadata": {
        "id": "o6SAto_yt-OR"
      },
      "source": [
        "Exercise 17 & 18- Data analysis"
      ]
    },
    {
      "cell_type": "code",
      "metadata": {
        "colab": {
          "base_uri": "https://localhost:8080/"
        },
        "id": "cfaywSfhuAjx",
        "outputId": "b32042b6-c63b-4112-85fa-8ce376451a93"
      },
      "source": [
        "import sys\n",
        "print('Python : {}'.format(sys.version))\n",
        "import scipy\n",
        "print('scipy: {}'.format(scipy.__version__))\n",
        "import numpy\n",
        "print('numpy: {}'.format(numpy.__version__))\n",
        "import matplotlib\n",
        "print('matplotlib: {}'.format(matplotlib.__version__))\n",
        "import matplotlib\n",
        "print('matplotlib: {}'.format(matplotlib.__version__))\n",
        "import sklearn\n",
        "print('sklearn: {}'.format(sklearn.__version__))\n",
        "import seaborn\n",
        "print('seaborn: {}'.format(seaborn.__version__))"
      ],
      "execution_count": 12,
      "outputs": [
        {
          "output_type": "stream",
          "name": "stdout",
          "text": [
            "Python : 3.7.11 (default, Jul  3 2021, 18:01:19) \n",
            "[GCC 7.5.0]\n",
            "scipy: 1.4.1\n",
            "numpy: 1.19.5\n",
            "matplotlib: 3.2.2\n",
            "matplotlib: 3.2.2\n",
            "sklearn: 0.22.2.post1\n",
            "seaborn: 0.11.1\n"
          ]
        }
      ]
    },
    {
      "cell_type": "code",
      "metadata": {
        "colab": {
          "base_uri": "https://localhost:8080/"
        },
        "id": "RsahDz0_uEA7",
        "outputId": "69efbb92-f111-4706-ed01-4b1d768ea257"
      },
      "source": [
        "import seaborn\n",
        "\n",
        "print('seaborn: {}'.format(seaborn.__version__))\n",
        "\n",
        "import urllib\n",
        "\n",
        "print('urlib: {}'.format(urllib.__name__))\n",
        "\n",
        "import csv \n",
        "print('csv: {}'.format(csv.__version__))"
      ],
      "execution_count": 14,
      "outputs": [
        {
          "output_type": "stream",
          "name": "stdout",
          "text": [
            "seaborn: 0.11.1\n",
            "urlib: urllib\n",
            "csv: 1.0\n"
          ]
        }
      ]
    },
    {
      "cell_type": "code",
      "metadata": {
        "colab": {
          "base_uri": "https://localhost:8080/"
        },
        "id": "3qz1K0y5udaN",
        "outputId": "fa256909-eca5-44fb-da18-0b11c18739e7"
      },
      "source": [
        "import numpy as np\n",
        "a=np.array([0,1,2])\n",
        "print(type(a))\n",
        "print(a.shape)\n",
        "print(a[0])\n",
        "print(a[1])\n",
        "print(a[2])\n",
        "\n",
        "a[0]=5\n",
        "print(a)"
      ],
      "execution_count": 15,
      "outputs": [
        {
          "output_type": "stream",
          "name": "stdout",
          "text": [
            "<class 'numpy.ndarray'>\n",
            "(3,)\n",
            "0\n",
            "1\n",
            "2\n",
            "[5 1 2]\n"
          ]
        }
      ]
    },
    {
      "cell_type": "code",
      "metadata": {
        "colab": {
          "base_uri": "https://localhost:8080/"
        },
        "id": "cghnULPJuhvD",
        "outputId": "14ae77c0-9c47-47c7-de1f-020aeb511541"
      },
      "source": [
        "b=np.array([[0,1,2],[3,4,5]])\n",
        "print(b.shape)\n",
        "print(b)\n",
        "print(b[0,0],b[0,1],b[1,0])\n"
      ],
      "execution_count": 16,
      "outputs": [
        {
          "output_type": "stream",
          "name": "stdout",
          "text": [
            "(2, 3)\n",
            "[[0 1 2]\n",
            " [3 4 5]]\n",
            "0 1 3\n"
          ]
        }
      ]
    },
    {
      "cell_type": "code",
      "metadata": {
        "colab": {
          "base_uri": "https://localhost:8080/"
        },
        "id": "nFNY8T95um-z",
        "outputId": "98e2a611-9504-4ef9-c2aa-0ce7bf9eeb5d"
      },
      "source": [
        "a=np.zeros((3,3))\n",
        "print(a)\n",
        "b=np.ones((2,2))\n",
        "print(b)\n",
        "c=np.full((3,3),7)\n",
        "print(c)\n",
        "d=np.random.random((3,3))\n",
        "print(d)\n",
        "e=np.eye(3)\n",
        "print(e)\n",
        "k=np.indices((3,3))\n",
        "print(k)"
      ],
      "execution_count": 17,
      "outputs": [
        {
          "output_type": "stream",
          "name": "stdout",
          "text": [
            "[[0. 0. 0.]\n",
            " [0. 0. 0.]\n",
            " [0. 0. 0.]]\n",
            "[[1. 1.]\n",
            " [1. 1.]]\n",
            "[[7 7 7]\n",
            " [7 7 7]\n",
            " [7 7 7]]\n",
            "[[0.90815121 0.66012858 0.90574965]\n",
            " [0.30893354 0.34841751 0.1236301 ]\n",
            " [0.9007027  0.12763687 0.90480463]]\n",
            "[[1. 0. 0.]\n",
            " [0. 1. 0.]\n",
            " [0. 0. 1.]]\n",
            "[[[0 0 0]\n",
            "  [1 1 1]\n",
            "  [2 2 2]]\n",
            "\n",
            " [[0 1 2]\n",
            "  [0 1 2]\n",
            "  [0 1 2]]]\n"
          ]
        }
      ]
    },
    {
      "cell_type": "code",
      "metadata": {
        "colab": {
          "base_uri": "https://localhost:8080/"
        },
        "id": "sWQN10e-uzhu",
        "outputId": "56dac160-624a-4c73-cd96-b96b1d450e9b"
      },
      "source": [
        "import numpy as np\n",
        "\n",
        "x=np.array([[1,2], [3,4],[5,6]]) \n",
        "y=np.array([[7,8], [9,10],[11,12]])\n",
        "\n",
        "# Elementwise sum; both produce the\n",
        "\n",
        "print(x+y)\n",
        "\n",
        "print(np.add(x, y))\n",
        "\n",
        "# Elementwise difference; both produ\n",
        "\n",
        "print(x-y)\n",
        "\n",
        "print(np.subtract(x, y))\n",
        "print(x*y)\n",
        "print(np.multiply(x,y))\n",
        "print(x/y)\n",
        "print(np.divide(x,y))\n"
      ],
      "execution_count": 19,
      "outputs": [
        {
          "output_type": "stream",
          "name": "stdout",
          "text": [
            "[[ 8 10]\n",
            " [12 14]\n",
            " [16 18]]\n",
            "[[ 8 10]\n",
            " [12 14]\n",
            " [16 18]]\n",
            "[[-6 -6]\n",
            " [-6 -6]\n",
            " [-6 -6]]\n",
            "[[-6 -6]\n",
            " [-6 -6]\n",
            " [-6 -6]]\n",
            "[[ 7 16]\n",
            " [27 40]\n",
            " [55 72]]\n",
            "[[ 7 16]\n",
            " [27 40]\n",
            " [55 72]]\n",
            "[[0.14285714 0.25      ]\n",
            " [0.33333333 0.4       ]\n",
            " [0.45454545 0.5       ]]\n",
            "[[0.14285714 0.25      ]\n",
            " [0.33333333 0.4       ]\n",
            " [0.45454545 0.5       ]]\n"
          ]
        }
      ]
    },
    {
      "cell_type": "code",
      "metadata": {
        "colab": {
          "base_uri": "https://localhost:8080/"
        },
        "id": "cKGMay4nu-wd",
        "outputId": "dcaf2bb1-9d2e-4663-9126-8aaf53368c52"
      },
      "source": [
        "print(np.sqrt(x))"
      ],
      "execution_count": 20,
      "outputs": [
        {
          "output_type": "stream",
          "name": "stdout",
          "text": [
            "[[1.         1.41421356]\n",
            " [1.73205081 2.        ]\n",
            " [2.23606798 2.44948974]]\n"
          ]
        }
      ]
    },
    {
      "cell_type": "code",
      "metadata": {
        "id": "bmvOXZpLvCRY"
      },
      "source": [
        "import pandas as pd\n"
      ],
      "execution_count": 21,
      "outputs": []
    },
    {
      "cell_type": "code",
      "metadata": {
        "colab": {
          "base_uri": "https://localhost:8080/"
        },
        "id": "1GPuda32vGHS",
        "outputId": "8c1ec218-98cd-48a7-8e75-6c95f8c40920"
      },
      "source": [
        "s=pd.Series([1,2,3,4,5], index=['A', 'B', 'C', 'D', 'E'])\n",
        "\n",
        "s"
      ],
      "execution_count": 22,
      "outputs": [
        {
          "output_type": "execute_result",
          "data": {
            "text/plain": [
              "A    1\n",
              "B    2\n",
              "C    3\n",
              "D    4\n",
              "E    5\n",
              "dtype: int64"
            ]
          },
          "metadata": {},
          "execution_count": 22
        }
      ]
    },
    {
      "cell_type": "code",
      "metadata": {
        "colab": {
          "base_uri": "https://localhost:8080/"
        },
        "id": "W9yFgitNvMVi",
        "outputId": "9481ef74-58c1-4357-90df-524723b39b3f"
      },
      "source": [
        "print(s)"
      ],
      "execution_count": 23,
      "outputs": [
        {
          "output_type": "stream",
          "name": "stdout",
          "text": [
            "A    1\n",
            "B    2\n",
            "C    3\n",
            "D    4\n",
            "E    5\n",
            "dtype: int64\n"
          ]
        }
      ]
    },
    {
      "cell_type": "code",
      "metadata": {
        "colab": {
          "base_uri": "https://localhost:8080/",
          "height": 142
        },
        "id": "wFYbyk5QvPeX",
        "outputId": "a206f10c-9ac2-4639-a7ee-0dd0668a5850"
      },
      "source": [
        "data={'Gen':['F', 'M', 'M'], 'EiD':['E01', 'E02', 'E03'],'Age':[25,45,38]}\n",
        "\n",
        "df=pd.DataFrame(data,columns=['EiD','Age','Gen'])\n",
        "\n",
        "df"
      ],
      "execution_count": 24,
      "outputs": [
        {
          "output_type": "execute_result",
          "data": {
            "text/html": [
              "<div>\n",
              "<style scoped>\n",
              "    .dataframe tbody tr th:only-of-type {\n",
              "        vertical-align: middle;\n",
              "    }\n",
              "\n",
              "    .dataframe tbody tr th {\n",
              "        vertical-align: top;\n",
              "    }\n",
              "\n",
              "    .dataframe thead th {\n",
              "        text-align: right;\n",
              "    }\n",
              "</style>\n",
              "<table border=\"1\" class=\"dataframe\">\n",
              "  <thead>\n",
              "    <tr style=\"text-align: right;\">\n",
              "      <th></th>\n",
              "      <th>EiD</th>\n",
              "      <th>Age</th>\n",
              "      <th>Gen</th>\n",
              "    </tr>\n",
              "  </thead>\n",
              "  <tbody>\n",
              "    <tr>\n",
              "      <th>0</th>\n",
              "      <td>E01</td>\n",
              "      <td>25</td>\n",
              "      <td>F</td>\n",
              "    </tr>\n",
              "    <tr>\n",
              "      <th>1</th>\n",
              "      <td>E02</td>\n",
              "      <td>45</td>\n",
              "      <td>M</td>\n",
              "    </tr>\n",
              "    <tr>\n",
              "      <th>2</th>\n",
              "      <td>E03</td>\n",
              "      <td>38</td>\n",
              "      <td>M</td>\n",
              "    </tr>\n",
              "  </tbody>\n",
              "</table>\n",
              "</div>"
            ],
            "text/plain": [
              "   EiD  Age Gen\n",
              "0  E01   25   F\n",
              "1  E02   45   M\n",
              "2  E03   38   M"
            ]
          },
          "metadata": {},
          "execution_count": 24
        }
      ]
    },
    {
      "cell_type": "code",
      "metadata": {
        "id": "W95nSRuTvR70"
      },
      "source": [
        "import numpy as np\n"
      ],
      "execution_count": 25,
      "outputs": []
    },
    {
      "cell_type": "code",
      "metadata": {
        "colab": {
          "base_uri": "https://localhost:8080/"
        },
        "id": "GII4m7NGvUOs",
        "outputId": "8e64ad82-7d46-4e2a-84b6-29b0fe1808ee"
      },
      "source": [
        "np.linspace(1.,2.,6)"
      ],
      "execution_count": 26,
      "outputs": [
        {
          "output_type": "execute_result",
          "data": {
            "text/plain": [
              "array([1. , 1.2, 1.4, 1.6, 1.8, 2. ])"
            ]
          },
          "metadata": {},
          "execution_count": 26
        }
      ]
    },
    {
      "cell_type": "code",
      "metadata": {
        "id": "d69iv8XevYIO"
      },
      "source": [
        "from scipy.cluster.vq import kmeans, vq, whiten\n",
        "\n",
        "from numpy import vstack, array\n",
        "\n",
        "from numpy.random import rand"
      ],
      "execution_count": 28,
      "outputs": []
    },
    {
      "cell_type": "code",
      "metadata": {
        "id": "wA_-fc5gver4"
      },
      "source": [
        "data=vstack((rand (100,3)+ array([.5,.5,.5]), rand (100,3)))"
      ],
      "execution_count": 29,
      "outputs": []
    },
    {
      "cell_type": "code",
      "metadata": {
        "colab": {
          "base_uri": "https://localhost:8080/"
        },
        "id": "u42SKGNevhwU",
        "outputId": "106c75dc-00ea-4ebc-c7b7-1f39f890510a"
      },
      "source": [
        "data"
      ],
      "execution_count": 30,
      "outputs": [
        {
          "output_type": "execute_result",
          "data": {
            "text/plain": [
              "array([[1.42501907, 0.50279832, 0.78234293],\n",
              "       [1.4425735 , 0.57447424, 1.45352686],\n",
              "       [1.40261495, 1.21248561, 0.95528799],\n",
              "       [1.35930698, 1.44570966, 1.44768138],\n",
              "       [0.9262211 , 1.16923121, 1.31589527],\n",
              "       [0.51897647, 0.65799094, 0.51047399],\n",
              "       [1.39585   , 1.42095149, 0.80230573],\n",
              "       [0.66505852, 0.70174146, 1.1464204 ],\n",
              "       [1.19484112, 1.31835232, 0.70855506],\n",
              "       [1.07705726, 1.1054063 , 1.42719089],\n",
              "       [0.79254352, 1.30415563, 0.98255595],\n",
              "       [0.56790939, 0.63748985, 0.61772348],\n",
              "       [1.3590521 , 1.27204471, 0.92277198],\n",
              "       [0.56908225, 1.02936187, 1.37161711],\n",
              "       [1.21360186, 1.32289243, 0.70649564],\n",
              "       [1.11702792, 1.32501453, 0.51915214],\n",
              "       [0.50991505, 0.82247961, 1.27513678],\n",
              "       [1.39048661, 0.98692335, 1.12933734],\n",
              "       [1.04142779, 0.83598686, 0.79220967],\n",
              "       [0.58709887, 1.25832978, 0.63477587],\n",
              "       [1.47687341, 0.61328619, 1.2537059 ],\n",
              "       [1.13571135, 1.22641507, 1.20356327],\n",
              "       [0.98398661, 1.09608047, 1.32715418],\n",
              "       [1.08163754, 0.64792711, 1.15451067],\n",
              "       [0.93051781, 0.76679527, 0.62012951],\n",
              "       [1.36902514, 1.38540669, 0.86663104],\n",
              "       [0.7778035 , 1.11610538, 1.29305499],\n",
              "       [0.54452897, 1.09854907, 0.92692546],\n",
              "       [0.52037392, 1.04960476, 1.12962118],\n",
              "       [1.34132817, 0.8823562 , 0.69425534],\n",
              "       [0.74864536, 0.7799136 , 0.51493974],\n",
              "       [1.13294873, 1.47646708, 1.16533415],\n",
              "       [1.38084728, 0.62100855, 0.77016658],\n",
              "       [1.45920293, 0.81292212, 0.57344473],\n",
              "       [0.79638941, 0.79530604, 1.25117304],\n",
              "       [1.4966249 , 1.46487175, 1.22311422],\n",
              "       [1.11164104, 1.36925352, 0.54730321],\n",
              "       [0.89689986, 1.1615941 , 0.76233253],\n",
              "       [0.64960605, 0.77173167, 0.58765663],\n",
              "       [0.55644461, 0.80329143, 1.41240431],\n",
              "       [1.4663582 , 1.00913759, 1.40040283],\n",
              "       [0.82788527, 1.03098345, 1.13131147],\n",
              "       [1.44103213, 1.23666826, 0.63157653],\n",
              "       [1.14791391, 0.82272209, 0.65464149],\n",
              "       [1.16409111, 1.44178475, 0.81974878],\n",
              "       [1.07969349, 1.30590484, 1.38053321],\n",
              "       [1.11926102, 1.20475685, 1.18986726],\n",
              "       [0.87945921, 1.43600504, 0.60101418],\n",
              "       [0.82956513, 1.37341185, 0.94003539],\n",
              "       [0.85954659, 1.00420357, 0.5535204 ],\n",
              "       [1.20133096, 0.99425197, 1.28796045],\n",
              "       [0.8059321 , 1.48230989, 1.32259373],\n",
              "       [0.92988514, 0.95837578, 0.70760825],\n",
              "       [0.83593916, 1.47926567, 0.78519318],\n",
              "       [0.59730065, 0.66285347, 1.22723324],\n",
              "       [1.2187124 , 1.33488952, 0.73123251],\n",
              "       [0.72528911, 1.00844214, 1.02405035],\n",
              "       [1.44393023, 1.13486135, 0.72111858],\n",
              "       [1.49583895, 0.75669531, 1.42054147],\n",
              "       [0.87947027, 0.60870151, 1.11970893],\n",
              "       [0.66867671, 1.25086759, 1.12325484],\n",
              "       [0.54674125, 1.02009136, 0.61818853],\n",
              "       [1.12339045, 1.15331963, 0.70237163],\n",
              "       [0.69732025, 0.68630239, 0.78568679],\n",
              "       [0.76048023, 1.01789891, 0.9167136 ],\n",
              "       [0.9935705 , 0.59823892, 0.53090501],\n",
              "       [1.08191015, 0.65600775, 1.17976864],\n",
              "       [1.24597577, 1.35677797, 1.13788229],\n",
              "       [0.93366496, 0.58038036, 0.69885851],\n",
              "       [0.89834846, 0.66921502, 1.4386533 ],\n",
              "       [1.04120105, 0.51495624, 1.01971962],\n",
              "       [1.02709575, 0.79031904, 1.04917962],\n",
              "       [1.05506248, 0.86661674, 1.47794185],\n",
              "       [0.65477783, 1.37214399, 1.36743698],\n",
              "       [0.51258845, 0.80981226, 1.45946427],\n",
              "       [1.1274301 , 1.2365635 , 0.91423066],\n",
              "       [1.27033207, 0.73164199, 1.17178966],\n",
              "       [0.9700167 , 0.95203884, 1.23031601],\n",
              "       [1.13684987, 1.24663908, 0.64634204],\n",
              "       [1.11837015, 1.24794854, 1.23428475],\n",
              "       [0.99006699, 0.69704588, 1.28295458],\n",
              "       [0.79671276, 0.64717961, 0.86601886],\n",
              "       [0.82158321, 1.40465762, 0.70579444],\n",
              "       [1.4808019 , 0.60268483, 1.44382889],\n",
              "       [0.86145864, 0.96597013, 1.29629344],\n",
              "       [1.47950656, 0.74559238, 0.71811626],\n",
              "       [0.63143065, 1.38177684, 1.264616  ],\n",
              "       [1.01652734, 1.29127789, 0.5226007 ],\n",
              "       [1.10352137, 0.76572373, 0.55669661],\n",
              "       [0.76936795, 0.95810248, 1.45046345],\n",
              "       [1.23894964, 0.95694443, 1.27133224],\n",
              "       [1.2314615 , 1.15543105, 1.12225521],\n",
              "       [1.44686907, 1.04919947, 1.44627774],\n",
              "       [0.60438707, 1.38666227, 1.09344307],\n",
              "       [0.84443998, 1.02874041, 1.37941123],\n",
              "       [0.99949659, 1.4476392 , 0.81940094],\n",
              "       [1.38611729, 0.60771636, 0.80523804],\n",
              "       [1.4720352 , 1.10442023, 1.4359614 ],\n",
              "       [0.79363133, 0.61636048, 1.02450462],\n",
              "       [0.8640181 , 0.69267174, 0.95700999],\n",
              "       [0.9928045 , 0.21063555, 0.20823616],\n",
              "       [0.81485802, 0.69934154, 0.55131817],\n",
              "       [0.39567999, 0.23608071, 0.5471459 ],\n",
              "       [0.65934057, 0.44419076, 0.01923324],\n",
              "       [0.34811647, 0.09293108, 0.2190393 ],\n",
              "       [0.54189237, 0.64034221, 0.62399886],\n",
              "       [0.50699538, 0.99376196, 0.09523475],\n",
              "       [0.97766712, 0.40563902, 0.77594938],\n",
              "       [0.16659151, 0.3523023 , 0.80353191],\n",
              "       [0.25371994, 0.81328578, 0.1832229 ],\n",
              "       [0.03427015, 0.27372278, 0.19100434],\n",
              "       [0.10734715, 0.1797202 , 0.66448463],\n",
              "       [0.91894518, 0.72165127, 0.24225681],\n",
              "       [0.10140252, 0.15561475, 0.27112272],\n",
              "       [0.97192399, 0.61745779, 0.42908358],\n",
              "       [0.35501271, 0.82298207, 0.39415191],\n",
              "       [0.82921397, 0.21263931, 0.39274647],\n",
              "       [0.10176383, 0.89113264, 0.4161288 ],\n",
              "       [0.88800446, 0.56437943, 0.75063411],\n",
              "       [0.68672745, 0.69001168, 0.12168594],\n",
              "       [0.19746634, 0.65963951, 0.38346181],\n",
              "       [0.45938036, 0.06340949, 0.54489696],\n",
              "       [0.10065387, 0.57870489, 0.86773994],\n",
              "       [0.86253855, 0.51752853, 0.11120163],\n",
              "       [0.87492957, 0.27233081, 0.77913955],\n",
              "       [0.69111364, 0.09673196, 0.23879663],\n",
              "       [0.10201619, 0.65331023, 0.48934969],\n",
              "       [0.52773162, 0.07237608, 0.32178493],\n",
              "       [0.61217899, 0.32242775, 0.45175393],\n",
              "       [0.86100581, 0.65118281, 0.44007264],\n",
              "       [0.53671631, 0.50659471, 0.06020014],\n",
              "       [0.93282925, 0.35406953, 0.39100318],\n",
              "       [0.49746016, 0.01333371, 0.07269249],\n",
              "       [0.18790759, 0.22228457, 0.11187631],\n",
              "       [0.07532111, 0.87003845, 0.06374335],\n",
              "       [0.79435919, 0.19957437, 0.5297198 ],\n",
              "       [0.4582962 , 0.9188799 , 0.99381779],\n",
              "       [0.55699573, 0.17929246, 0.84149019],\n",
              "       [0.39371525, 0.84313702, 0.48657193],\n",
              "       [0.05127573, 0.89926518, 0.6013158 ],\n",
              "       [0.85045991, 0.47257065, 0.2700292 ],\n",
              "       [0.96609167, 0.45650098, 0.84667144],\n",
              "       [0.04871535, 0.04991352, 0.67357257],\n",
              "       [0.33284905, 0.473049  , 0.95480932],\n",
              "       [0.58599754, 0.45978561, 0.91594601],\n",
              "       [0.85360266, 0.63520272, 0.52749464],\n",
              "       [0.41592945, 0.73165126, 0.26373774],\n",
              "       [0.6435209 , 0.28178023, 0.40312668],\n",
              "       [0.59953228, 0.5654863 , 0.4228743 ],\n",
              "       [0.84905567, 0.71506468, 0.39837178],\n",
              "       [0.2437569 , 0.63192615, 0.31660414],\n",
              "       [0.82350666, 0.51312159, 0.95593289],\n",
              "       [0.3487267 , 0.19629698, 0.18305609],\n",
              "       [0.54717262, 0.59652358, 0.00657618],\n",
              "       [0.27150353, 0.9785972 , 0.26052655],\n",
              "       [0.09024883, 0.24682221, 0.17342943],\n",
              "       [0.19331349, 0.35163925, 0.10931685],\n",
              "       [0.89600265, 0.55056871, 0.64222441],\n",
              "       [0.49287005, 0.21201847, 0.38427924],\n",
              "       [0.66185818, 0.87014748, 0.3437353 ],\n",
              "       [0.70483573, 0.72285115, 0.55594461],\n",
              "       [0.7917947 , 0.97173929, 0.35006418],\n",
              "       [0.36689325, 0.1741873 , 0.31651404],\n",
              "       [0.39203888, 0.34434316, 0.40275358],\n",
              "       [0.83171179, 0.76164716, 0.59109768],\n",
              "       [0.91625001, 0.26407888, 0.96352149],\n",
              "       [0.24092104, 0.45340363, 0.27645346],\n",
              "       [0.79353418, 0.69907768, 0.4660655 ],\n",
              "       [0.6573395 , 0.31636952, 0.68557001],\n",
              "       [0.6826176 , 0.59587199, 0.85223591],\n",
              "       [0.3425096 , 0.15400054, 0.09162636],\n",
              "       [0.79478199, 0.43111881, 0.38419404],\n",
              "       [0.7951877 , 0.8752726 , 0.69979053],\n",
              "       [0.71625007, 0.60833599, 0.42758277],\n",
              "       [0.57055416, 0.21867382, 0.74071637],\n",
              "       [0.28159803, 0.10647136, 0.14545214],\n",
              "       [0.37828102, 0.84948657, 0.45972295],\n",
              "       [0.39584675, 0.90074767, 0.4425284 ],\n",
              "       [0.62125869, 0.73144275, 0.76248015],\n",
              "       [0.81718266, 0.57260633, 0.8844117 ],\n",
              "       [0.66985911, 0.93418038, 0.60702205],\n",
              "       [0.07971168, 0.19958152, 0.8862509 ],\n",
              "       [0.40193406, 0.97581719, 0.67001406],\n",
              "       [0.80316162, 0.33937267, 0.19187009],\n",
              "       [0.56310508, 0.6517757 , 0.70155309],\n",
              "       [0.04732596, 0.06478686, 0.74407282],\n",
              "       [0.38229683, 0.63088418, 0.86513887],\n",
              "       [0.54584006, 0.31681598, 0.67138769],\n",
              "       [0.6649543 , 0.96904959, 0.24548503],\n",
              "       [0.50366089, 0.52693352, 0.65320385],\n",
              "       [0.8456547 , 0.38979493, 0.18673505],\n",
              "       [0.79094858, 0.70456879, 0.75865992],\n",
              "       [0.53729654, 0.17147965, 0.72823271],\n",
              "       [0.09045781, 0.56699476, 0.2133132 ],\n",
              "       [0.76720953, 0.74016253, 0.10484427],\n",
              "       [0.29382398, 0.88278221, 0.59737756],\n",
              "       [0.48023436, 0.27797281, 0.47264673],\n",
              "       [0.66819163, 0.74431663, 0.77024476],\n",
              "       [0.72923631, 0.72201233, 0.11707086],\n",
              "       [0.65081646, 0.91233215, 0.073926  ]])"
            ]
          },
          "metadata": {},
          "execution_count": 30
        }
      ]
    },
    {
      "cell_type": "code",
      "metadata": {
        "colab": {
          "base_uri": "https://localhost:8080/"
        },
        "id": "GLpjb_JvvlBK",
        "outputId": "a4c2d2a6-b5b8-4149-d461-eb4743e4fa28"
      },
      "source": [
        "data=whiten(data)\n",
        "data"
      ],
      "execution_count": 31,
      "outputs": [
        {
          "output_type": "execute_result",
          "data": {
            "text/plain": [
              "array([[3.84183488, 1.33690394, 1.99129191],\n",
              "       [3.8891614 , 1.52748496, 3.69965162],\n",
              "       [3.78143361, 3.22391048, 2.43148776],\n",
              "       [3.66467585, 3.84403618, 3.68477315],\n",
              "       [2.49708133, 3.1089002 , 3.34933891],\n",
              "       [1.39915455, 1.74954975, 1.29930582],\n",
              "       [3.76319541, 3.77820602, 2.04210309],\n",
              "       [1.79299005, 1.86587919, 2.91797573],\n",
              "       [3.22127778, 3.50540232, 1.80348018],\n",
              "       [2.90373387, 2.93919445, 3.63261887],\n",
              "       [2.13668813, 3.46765436, 2.5008927 ],\n",
              "       [1.53107712, 1.69503884, 1.57228719],\n",
              "       [3.6639887 , 3.38227377, 2.34872498],\n",
              "       [1.53423915, 2.73699788, 3.49116732],\n",
              "       [3.27185654, 3.51747414, 1.79823834],\n",
              "       [3.0114943 , 3.52311667, 1.32139426],\n",
              "       [1.37472506, 2.18691307, 3.24559661],\n",
              "       [3.74873577, 2.62415696, 2.87449432],\n",
              "       [2.80767725, 2.22282788, 2.01640567],\n",
              "       [1.58281173, 3.34580679, 1.61569052],\n",
              "       [3.98163356, 1.63068308, 3.19104875],\n",
              "       [3.06186462, 3.26094791, 3.06342107],\n",
              "       [2.65281649, 2.91439775, 3.37799614],\n",
              "       [2.91608226, 1.72279076, 2.93856784],\n",
              "       [2.5086652 , 2.03885251, 1.57841124],\n",
              "       [3.6908759 , 3.68369498, 2.20582986],\n",
              "       [2.09694921, 2.96764251, 3.29120372],\n",
              "       [1.46804377, 2.92096158, 2.35929682],\n",
              "       [1.40292205, 2.79082223, 2.8752168 ],\n",
              "       [3.61620518, 2.34612054, 1.7670832 ],\n",
              "       [2.01833921, 2.07373317, 1.31067248],\n",
              "       [3.05441663, 3.92581789, 2.96611676],\n",
              "       [3.72274825, 1.65121627, 1.96029953],\n",
              "       [3.93399416, 2.16150041, 1.4595848 ],\n",
              "       [2.14705661, 2.11466055, 3.18460187],\n",
              "       [4.03488336, 3.89498677, 3.11318396],\n",
              "       [2.99697134, 3.64074489, 1.39304697],\n",
              "       [2.4180316 , 3.08859368, 1.94035959],\n",
              "       [1.75133037, 2.05197801, 1.49575826],\n",
              "       [1.50016821, 2.1358931 , 3.5949827 ],\n",
              "       [3.95328468, 2.683223  , 3.56443541],\n",
              "       [2.23196908, 2.74130952, 2.87951908],\n",
              "       [3.88500589, 3.2882104 , 1.60754726],\n",
              "       [3.09476257, 2.18755783, 1.66625436],\n",
              "       [3.13837611, 3.83360013, 2.08650076],\n",
              "       [2.91084112, 3.47230539, 3.51386141],\n",
              "       [3.01751472, 3.20336027, 3.02856071],\n",
              "       [2.37101183, 3.81823229, 1.52975713],\n",
              "       [2.23649796, 3.6518016 , 2.39266542],\n",
              "       [2.31732764, 2.67010379, 1.40887155],\n",
              "       [3.23877431, 2.64364323, 3.27823661],\n",
              "       [2.17278358, 3.94135351, 3.36638845],\n",
              "       [2.50695953, 2.54825105, 1.80107027],\n",
              "       [2.25368227, 3.93325915, 1.99854665],\n",
              "       [1.61031561, 1.76247885, 3.12366807],\n",
              "       [3.28563449, 3.54937354, 1.86120092],\n",
              "       [1.95537102, 2.68137383, 2.60650811],\n",
              "       [3.89281915, 3.01751327, 1.835458  ],\n",
              "       [4.03276444, 2.01199744, 3.61569415],\n",
              "       [2.37104165, 1.61849276, 2.84998722],\n",
              "       [1.80274465, 3.32596536, 2.8590126 ],\n",
              "       [1.47400806, 2.71234826, 1.57347088],\n",
              "       [3.02864761, 3.06659249, 1.78774152],\n",
              "       [1.87996729, 1.82482783, 1.99980302],\n",
              "       [2.05024586, 2.7065187 , 2.33330464],\n",
              "       [2.67865453, 1.59067351, 1.35130876],\n",
              "       [2.9168172 , 1.7442766 , 3.00285678],\n",
              "       [3.35913621, 3.60757331, 2.89624372],\n",
              "       [2.51714991, 1.5431889 , 1.77879962],\n",
              "       [2.42193701, 1.77939376, 3.66179405],\n",
              "       [2.80706595, 1.36923095, 2.59548512],\n",
              "       [2.76903821, 2.10140049, 2.67046946],\n",
              "       [2.84443619, 2.30427049, 3.76179492],\n",
              "       [1.76527342, 3.64843043, 3.48052766],\n",
              "       [1.38193251, 2.15323152, 3.71476407],\n",
              "       [3.03953847, 3.28793184, 2.32698483],\n",
              "       [3.42480051, 1.9453825 , 2.98254791],\n",
              "       [2.61515377, 2.53140161, 3.13151462],\n",
              "       [3.06493406, 3.31472207, 1.64512983],\n",
              "       [3.01511293, 3.31820382, 3.14161622],\n",
              "       [2.66920911, 1.85339398, 3.2654952 ],\n",
              "       [2.14792836, 1.72080321, 2.20427166],\n",
              "       [2.21497881, 3.73488181, 1.79645358],\n",
              "       [3.99222474, 1.60249485, 3.67496745],\n",
              "       [2.32248249, 2.56844387, 3.29944651],\n",
              "       [3.98873251, 1.98247558, 1.82781623],\n",
              "       [1.70232971, 3.67404349, 3.21881814],\n",
              "       [2.74054592, 3.43341339, 1.33017185],\n",
              "       [2.97508079, 2.03600335, 1.41695594],\n",
              "       [2.07420706, 2.54752438, 3.69185434],\n",
              "       [3.34019386, 2.54444521, 3.23591295],\n",
              "       [3.3200059 , 3.0722066 , 2.85646824],\n",
              "       [3.90074221, 2.7897446 , 3.68120048],\n",
              "       [1.62942051, 3.68703349, 2.78313291],\n",
              "       [2.27660038, 2.73534544, 3.51100562],\n",
              "       [2.69463119, 3.84916669, 2.08561541],\n",
              "       [3.73695612, 1.61587332, 2.04956667],\n",
              "       [3.96858982, 2.93657255, 3.65494239],\n",
              "       [2.13962085, 1.63885741, 2.60766436],\n",
              "       [2.32938278, 1.84176346, 2.43587076],\n",
              "       [2.67658941, 0.56006452, 0.53002202],\n",
              "       [2.19684777, 1.85949796, 1.40326624],\n",
              "       [1.06674866, 0.62772132, 1.39264658],\n",
              "       [1.77757453, 1.18107072, 0.04895423],\n",
              "       [0.93851797, 0.24709693, 0.55751918],\n",
              "       [1.46093553, 1.70262305, 1.58825987],\n",
              "       [1.36685366, 2.64234032, 0.24240035],\n",
              "       [2.63577922, 1.07856446, 1.97501846],\n",
              "       [0.44912878, 0.93674602, 2.04522408],\n",
              "       [0.68402602, 2.16246737, 0.46635595],\n",
              "       [0.09239191, 0.72780883, 0.486162  ],\n",
              "       [0.28940666, 0.47786286, 1.69130803],\n",
              "       [2.47746554, 1.91881791, 0.61661454],\n",
              "       [0.27338003, 0.41376822, 0.69008674],\n",
              "       [2.6202958 , 1.64177508, 1.09214339],\n",
              "       [0.95711016, 2.18824909, 1.00323207],\n",
              "       [2.23555124, 0.56539237, 0.9996548 ],\n",
              "       [0.27435409, 2.36945647, 1.05916968],\n",
              "       [2.39404972, 1.50064358, 1.91058368],\n",
              "       [1.85140922, 1.83469054, 0.30972637],\n",
              "       [0.53236696, 1.75393318, 0.97602264],\n",
              "       [1.23848412, 0.1686012 , 1.38692238],\n",
              "       [0.27136166, 1.53873395, 2.20865232],\n",
              "       [2.32539392, 1.37607048, 0.28304073],\n",
              "       [2.35879996, 0.72410768, 1.98313838],\n",
              "       [1.86323435, 0.25720321, 0.60780738],\n",
              "       [0.27503446, 1.73710408, 1.2455383 ],\n",
              "       [1.42275831, 0.19244269, 0.81903691],\n",
              "       [1.65042744, 0.85731179, 1.14984608],\n",
              "       [2.32126166, 1.73144744, 1.12011378],\n",
              "       [1.44698094, 1.34699824, 0.15322699],\n",
              "       [2.51489683, 0.94144497, 0.99521763],\n",
              "       [1.34114682, 0.03545336, 0.18502369],\n",
              "       [0.50659669, 0.59103839, 0.28475797],\n",
              "       [0.20306483, 2.31336857, 0.16224549],\n",
              "       [2.14158316, 0.53065365, 1.34829205],\n",
              "       [1.23556123, 2.44323439, 2.52955738],\n",
              "       [1.50165402, 0.47672552, 2.14183902],\n",
              "       [1.06145175, 2.24183961, 1.23846808],\n",
              "       [0.13823877, 2.39108029, 1.53052484],\n",
              "       [2.29283006, 1.25653076, 0.68730341],\n",
              "       [2.60457193, 1.21380269, 2.15502682],\n",
              "       [0.13133603, 0.13271639, 1.71443949],\n",
              "       [0.89735718, 1.25780267, 2.4302694 ],\n",
              "       [1.57984256, 1.22253627, 2.33135089],\n",
              "       [2.30130286, 1.68895753, 1.34262838],\n",
              "       [1.12134097, 1.94540715, 0.67128981],\n",
              "       [1.73492486, 0.74923301, 1.02607547],\n",
              "       [1.61633206, 1.50358667, 1.07633895],\n",
              "       [2.28904424, 1.90130465, 1.01397288],\n",
              "       [0.65716578, 1.68024538, 0.80585029],\n",
              "       [2.2201644 , 1.36435274, 2.43312922],\n",
              "       [0.94016312, 0.5219393 , 0.46593137],\n",
              "       [1.47517102, 1.58611253, 0.01673829],\n",
              "       [0.73197037, 2.60201832, 0.66311638],\n",
              "       [0.24330979, 0.6562822 , 0.44142869],\n",
              "       [0.52117092, 0.93498303, 0.2782434 ],\n",
              "       [2.41561275, 1.4639219 , 1.63464924],\n",
              "       [1.32877193, 0.56374159, 0.97810324],\n",
              "       [1.78436197, 2.31365846, 0.87490703],\n",
              "       [1.90022894, 1.92200829, 1.41504188],\n",
              "       [2.13466931, 2.58378364, 0.89101589],\n",
              "       [0.98913995, 0.46315127, 0.80562094],\n",
              "       [1.05693228, 0.91558325, 1.02512583],\n",
              "       [2.24228534, 2.02516405, 1.50451675],\n",
              "       [2.47019938, 0.70216642, 2.45244441],\n",
              "       [0.64952033, 1.20556706, 0.70365504],\n",
              "       [2.13935894, 1.85879638, 1.18627323],\n",
              "       [1.77217966, 0.84120339, 1.7449765 ],\n",
              "       [1.84032913, 1.58438002, 2.16919003],\n",
              "       [0.9234019 , 0.40947616, 0.23321593],\n",
              "       [2.14272301, 1.14631336, 0.97788638],\n",
              "       [2.14381681, 2.32728578, 1.78117189],\n",
              "       [1.93100188, 1.61752088, 1.08832339],\n",
              "       [1.5382074 , 0.58143768, 1.88534013],\n",
              "       [0.75918502, 0.28309955, 0.37021831],\n",
              "       [1.01984125, 2.2587226 , 1.17012956],\n",
              "       [1.06719825, 2.39502212, 1.12636441],\n",
              "       [1.6749062 , 1.94485274, 1.94073533],\n",
              "       [2.20311496, 1.52251831, 2.25108684],\n",
              "       [1.80593238, 2.48391726, 1.54504892],\n",
              "       [0.21490175, 0.53067266, 2.25576815],\n",
              "       [1.08360955, 2.59462649, 1.70538205],\n",
              "       [2.16531439, 0.9023671 , 0.48836557],\n",
              "       [1.51812477, 1.73302387, 1.78565811],\n",
              "       [0.12759023, 0.17226352, 1.89388328],\n",
              "       [1.03066782, 1.67747486, 2.20203184],\n",
              "       [1.47157847, 0.84239052, 1.70887834],\n",
              "       [1.79270907, 2.57663192, 0.62483132],\n",
              "       [1.35786392, 1.40107766, 1.66259515],\n",
              "       [2.27987525, 1.03643619, 0.47529539],\n",
              "       [2.1323882 , 1.87339686, 1.93101173],\n",
              "       [1.44854523, 0.45595184, 1.85356556],\n",
              "       [0.2438732 , 1.50759758, 0.54294459],\n",
              "       [2.06838799, 1.96803799, 0.26685938],\n",
              "       [0.79214605, 2.34725328, 1.52050087],\n",
              "       [1.29470627, 0.73910936, 1.20302437],\n",
              "       [1.80143686, 1.97908344, 1.96049853],\n",
              "       [1.96601262, 1.91977793, 0.29797964],\n",
              "       [1.75459361, 2.42582442, 0.18816333]])"
            ]
          },
          "metadata": {},
          "execution_count": 31
        }
      ]
    },
    {
      "cell_type": "code",
      "metadata": {
        "id": "vMlA8vCzvlJC"
      },
      "source": [
        "\n",
        "centroids,_=kmeans(data,3)\n"
      ],
      "execution_count": 32,
      "outputs": []
    },
    {
      "cell_type": "code",
      "metadata": {
        "colab": {
          "base_uri": "https://localhost:8080/"
        },
        "id": "PS1h915Vvu3Y",
        "outputId": "cb2eab76-4372-42b0-d8f8-13d945a89b07"
      },
      "source": [
        "centroids"
      ],
      "execution_count": 33,
      "outputs": [
        {
          "output_type": "execute_result",
          "data": {
            "text/plain": [
              "array([[1.03124445, 0.8698891 , 0.94636843],\n",
              "       [1.90410355, 1.8777376 , 1.57976568],\n",
              "       [2.93003406, 2.8909346 , 2.72509945]])"
            ]
          },
          "metadata": {},
          "execution_count": 33
        }
      ]
    },
    {
      "cell_type": "code",
      "metadata": {
        "colab": {
          "base_uri": "https://localhost:8080/"
        },
        "id": "M1PEPEvovxik",
        "outputId": "230eeef9-7498-4991-e5e9-856323edd6d4"
      },
      "source": [
        "from scipy.fftpack import fft\n",
        "\n",
        "x = np.array([1.0, 2.0, 1.0, 1.0, 1.5])\n",
        "\n",
        "\n",
        "y = fft (x)\n",
        "\n",
        "print(\"FFT:\\n\",y)"
      ],
      "execution_count": 34,
      "outputs": [
        {
          "output_type": "stream",
          "name": "stdout",
          "text": [
            "FFT:\n",
            " [ 6.5       -0.j          0.46352549-0.47552826j -1.21352549-0.29389263j\n",
            " -1.21352549+0.29389263j  0.46352549+0.47552826j]\n"
          ]
        }
      ]
    },
    {
      "cell_type": "code",
      "metadata": {
        "colab": {
          "base_uri": "https://localhost:8080/"
        },
        "id": "MzH0Um1Qv0AP",
        "outputId": "11e97dd9-bc11-40b0-ec76-2e0d59488d7b"
      },
      "source": [
        "from scipy.fftpack import ifft \n",
        "yinv = ifft (y) \n",
        "print(\"FFT Inverse: \\n\",yinv)"
      ],
      "execution_count": 35,
      "outputs": [
        {
          "output_type": "stream",
          "name": "stdout",
          "text": [
            "FFT Inverse: \n",
            " [1. +0.j 2. +0.j 1. +0.j 1. +0.j 1.5+0.j]\n"
          ]
        }
      ]
    },
    {
      "cell_type": "code",
      "metadata": {
        "id": "Jqdzl-nqv41t"
      },
      "source": [
        "import matplotlib.pyplot as plt\n",
        "import numpy as np"
      ],
      "execution_count": 36,
      "outputs": []
    },
    {
      "cell_type": "code",
      "metadata": {
        "colab": {
          "base_uri": "https://localhost:8080/",
          "height": 265
        },
        "id": "nKNQ_xrEv6fu",
        "outputId": "760d6d3f-ee8c-4df8-a55d-df2436f73bfc"
      },
      "source": [
        "x=np.arange (5)\n",
        "y=(35,45,23,27,60)\n",
        "\n",
        "plt.bar(x,y)\n",
        "\n",
        "plt.show()"
      ],
      "execution_count": 37,
      "outputs": [
        {
          "output_type": "display_data",
          "data": {
            "image/png": "[encoded data removed]",
            "text/plain": [
              "<Figure size 432x288 with 1 Axes>"
            ]
          },
          "metadata": {
            "needs_background": "light"
          }
        }
      ]
    },
    {
      "cell_type": "code",
      "metadata": {
        "colab": {
          "base_uri": "https://localhost:8080/",
          "height": 265
        },
        "id": "OU2xxxONv9Yg",
        "outputId": "24e84772-3299-44a1-9adb-5863a40838e1"
      },
      "source": [
        "plt.scatter(x,y)\n",
        "plt.show()"
      ],
      "execution_count": 38,
      "outputs": [
        {
          "output_type": "display_data",
          "data": {
            "image/png": "[encoded data removed]",
            "text/plain": [
              "<Figure size 432x288 with 1 Axes>"
            ]
          },
          "metadata": {
            "needs_background": "light"
          }
        }
      ]
    }
  ]
}