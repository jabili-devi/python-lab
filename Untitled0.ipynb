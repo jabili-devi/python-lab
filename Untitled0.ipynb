{
  "nbformat": 4,
  "nbformat_minor": 0,
  "metadata": {
    "colab": {
      "name": "Untitled0.ipynb",
      "provenance": [],
      "collapsed_sections": [],
      "authorship_tag": "ABX9TyN2XRUtK0TadcPFEY8Jnr1E",
      "include_colab_link": true
    },
    "kernelspec": {
      "name": "python3",
      "display_name": "Python 3"
    },
    "language_info": {
      "name": "python"
    }
  },
  "cells": [
    {
      "cell_type": "markdown",
      "metadata": {
        "id": "view-in-github",
        "colab_type": "text"
      },
      "source": [
        "<a href=\"https://colab.research.google.com/github/jabili-devi/python-lab/blob/main/Untitled0.ipynb\" target=\"_parent\"><img src=\"https://colab.research.google.com/assets/colab-badge.svg\" alt=\"Open In Colab\"/></a>"
      ]
    },
    {
      "cell_type": "code",
      "metadata": {
        "id": "QsOfln4Kz1ln"
      },
      "source": [
        ""
      ],
      "execution_count": null,
      "outputs": []
    },
    {
      "cell_type": "markdown",
      "metadata": {
        "id": "h5-rU93o2wZQ"
      },
      "source": [
        "name:M.jabili devi\n",
        "regno:20A25B0502\n",
        "section:cse-shift"
      ]
    },
    {
      "cell_type": "markdown",
      "metadata": {
        "id": "h2mDqiox25kY"
      },
      "source": [
        "exercise:2 -a) write a program to compute distance between 2 points by taking inputs"
      ]
    },
    {
      "cell_type": "code",
      "metadata": {
        "colab": {
          "base_uri": "https://localhost:8080/"
        },
        "id": "UKZcM-td28Py",
        "outputId": "b79b4c7d-0550-4b88-b349-12885999abc1"
      },
      "source": [
        "import math\n",
        "x1=int(input(\"enter x1 value:\"))\n",
        "x2=int(input(\"enter x2 value:\"))\n",
        "y1=int(input(\"enter y1 value:\"))\n",
        "y2=int(input(\"enter y2 value:\"))\n",
        "d=math.sqrt(((x2-x1)**2)+((y2-y1)**2))\n",
        "print(\"distanse of two points:\",d)"
      ],
      "execution_count": 1,
      "outputs": [
        {
          "output_type": "stream",
          "text": [
            "enter x1 value:10\n",
            "enter x2 value:5\n",
            "enter y1 value:8\n",
            "enter y2 value:6\n",
            "distanse of two points: 5.385164807134504\n"
          ],
          "name": "stdout"
        }
      ]
    },
    {
      "cell_type": "markdown",
      "metadata": {
        "id": "faSJV4ak3RJg"
      },
      "source": [
        "exercise 3: write a program to find the given number is even or odd"
      ]
    },
    {
      "cell_type": "code",
      "metadata": {
        "colab": {
          "base_uri": "https://localhost:8080/"
        },
        "id": "gdsCPkRt3XoG",
        "outputId": "f3483559-3b6c-4238-cf25-aabdd240f60d"
      },
      "source": [
        "n=int(input(\"enter a number:\"))\n",
        "if(n%2==0):\n",
        "  print(\"given number is even\")\n",
        "else:\n",
        "  print(\"given number is odd\")"
      ],
      "execution_count": 2,
      "outputs": [
        {
          "output_type": "stream",
          "text": [
            "enter a number:9\n",
            "given number is odd\n"
          ],
          "name": "stdout"
        }
      ]
    }
  ]
}